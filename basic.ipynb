{
  "cells": [
    {
      "cell_type": "markdown",
      "metadata": {
        "id": "SlvBYLj52Idq"
      },
      "source": [
        "# **1.Variables and Variables naming convention**"
      ]
    },
    {
      "cell_type": "markdown",
      "metadata": {
        "id": "EeHe6KmG2PCR"
      },
      "source": [
        "1. We cannot use special signs in variables except #pound symbol\n",
        "2.avoid capital letters in front\n",
        "3.dont use numerical at the beginning"
      ]
    },
    {
      "cell_type": "code",
      "execution_count": null,
      "metadata": {
        "id": "ZzsivEnR2c4K"
      },
      "outputs": [],
      "source": [
        "# Small=wrong\n",
        "# CSE110=Wrong\n",
        "# 8AM=Wrong\n",
        "# *%Name=wrong \n",
        "# small_1=Right \n",
        "# Tom1=right but naming convention unujayi wrong\n",
        "# num 1=wrong\n",
        "# _nume_1=right\n",
        "\n"
      ]
    },
    {
      "cell_type": "markdown",
      "source": [
        "================================================================================"
      ],
      "metadata": {
        "id": "dm8fMaykcqV2"
      }
    },
    {
      "cell_type": "markdown",
      "metadata": {
        "id": "N_u2nBCi4jsK"
      },
      "source": [
        "# 2.**Datatypes**"
      ]
    },
    {
      "cell_type": "markdown",
      "metadata": {
        "id": "J7h90kRM4_nw"
      },
      "source": [
        "a.Integer"
      ]
    },
    {
      "cell_type": "code",
      "execution_count": null,
      "metadata": {
        "colab": {
          "base_uri": "https://localhost:8080/"
        },
        "id": "M60UwEB24t86",
        "outputId": "c3595faf-2270-43b2-955a-4870960bd0cc"
      },
      "outputs": [
        {
          "output_type": "stream",
          "name": "stdout",
          "text": [
            "<class 'float'>\n",
            "3.5\n"
          ]
        }
      ],
      "source": [
        "int=3\n",
        "print(type(int))\n",
        "print(int)\n"
      ]
    },
    {
      "cell_type": "markdown",
      "metadata": {
        "id": "mFDfknqh5DTB"
      },
      "source": [
        "b. Float(decimals)"
      ]
    },
    {
      "cell_type": "code",
      "execution_count": null,
      "metadata": {
        "colab": {
          "base_uri": "https://localhost:8080/"
        },
        "id": "upoXlyvy5F1S",
        "outputId": "44d23e07-95b8-439d-ddcb-f04f2d37972c"
      },
      "outputs": [
        {
          "name": "stdout",
          "output_type": "stream",
          "text": [
            "<class 'float'>\n",
            "3.696969\n"
          ]
        }
      ],
      "source": [
        "float=3.696969\n",
        "print(type(float))\n",
        "print(float)"
      ]
    },
    {
      "cell_type": "markdown",
      "metadata": {
        "id": "VLOCOM5h5Mvw"
      },
      "source": [
        "c. list"
      ]
    },
    {
      "cell_type": "code",
      "execution_count": null,
      "metadata": {
        "colab": {
          "base_uri": "https://localhost:8080/"
        },
        "id": "-inda7mZ5T2Q",
        "outputId": "882fc190-ba73-4bed-d134-8de54f681e11"
      },
      "outputs": [
        {
          "output_type": "stream",
          "name": "stdout",
          "text": [
            "<class 'list'>\n",
            "<class 'list'>\n",
            "['Messi,Ronaldo,Nashid']\n",
            "[50, 100, 150]\n",
            "150\n",
            "[98, 2, 3, 4]\n",
            "[0, 'ifti', 'nashid', 'ramisa', 2004, 'nafeej', 'tafhim']\n",
            "['ifti', 'nashid', 'ramisa']\n",
            "[0, 'ifti', 'nashid', 'ramisa', 2004, 'nafeej', 'tafhim']\n",
            "['ramisa', 2004, 'nafeej', 'tafhim']\n",
            "[]\n",
            "[0, 'ifti', 'nashid', 'ramisa']\n",
            "[0, 'ifti', 'nashid', 'ramisa']\n"
          ]
        }
      ],
      "source": [
        "#CReate a list and print the list\n",
        "my_list_01=[\"Messi,Ronaldo,Nashid\"]\n",
        "my_list_02=[50,100,150]\n",
        "my_list_03=[]\n",
        "print(type(my_list_01))\n",
        "print(type(my_list_02))\n",
        "print(my_list_01)\n",
        "print(my_list_02)\n",
        "\n",
        "\n",
        "\n",
        "#Access using index of the list\n",
        "print(my_list_02[2])   #eikhane 3rd bracket er modhe jei index ta dibo oi number ta print hobe\n",
        "\n",
        "\n",
        "\n",
        "\n",
        "#Create a list and edit the list \n",
        "my_list_04=[1,2,3,4]\n",
        "my_list_04[0]=98       #eikhane ami 0 index e age 1 chilo oitake edit kore 98 korlam\n",
        "print(my_list_04) \n",
        "\n",
        "\n",
        "\n",
        "#WE can create a list of different types       #This is known as list slicing\n",
        "friends=[0, \"ifti\" , \"nashid\" , \"ramisa\" , 2004, \"nafeej\", \"tafhim\"]\n",
        "      #   0    1         2         3         4      5           6\n",
        "      #  -7   -6        -5        -4        -3     -2          -1\n",
        "\n",
        "\n",
        "print(friends)\n",
        "print(friends[1:4]) #end ta holo exclusive\n",
        "print(friends[-7:])\n",
        "print(friends[-4:])\n",
        "print(friends[-7:0])\n",
        "print(friends[-7:4])\n",
        "print(friends[-7:-3])"
      ]
    },
    {
      "cell_type": "markdown",
      "metadata": {
        "id": "374WlDxP7Gca"
      },
      "source": [
        "d. tuple[Fixed list]"
      ]
    },
    {
      "cell_type": "code",
      "execution_count": null,
      "metadata": {
        "colab": {
          "base_uri": "https://localhost:8080/"
        },
        "id": "AAq7Bo8X7H-I",
        "outputId": "f5fbab6c-405f-4a64-e1ff-8a6b37053999"
      },
      "outputs": [
        {
          "output_type": "stream",
          "name": "stdout",
          "text": [
            "<class 'str'>\n",
            "<class 'tuple'>\n",
            "Messi,Ronaldo,Neymar\n",
            "(50, 100, 150)\n",
            "()\n"
          ]
        }
      ],
      "source": [
        "my_tuple_01=(\"Messi,Ronaldo,Neymar\")\n",
        "my_tuple_02=(50,100,150)\n",
        "my_tuple_03=()\n",
        "# my_tuple_03[2]=\"brasil\" #hobena change kora jabena\n",
        "print(type(my_tuple_01))\n",
        "print(type(my_tuple_02))\n",
        "print(my_tuple_01)\n",
        "print(my_tuple_02)\n",
        "print(my_tuple_03)"
      ]
    },
    {
      "cell_type": "markdown",
      "metadata": {
        "id": "tMXoZuJc7bcw"
      },
      "source": [
        "e. Dictionary (my_dict={key:value})"
      ]
    },
    {
      "cell_type": "code",
      "execution_count": null,
      "metadata": {
        "colab": {
          "base_uri": "https://localhost:8080/"
        },
        "id": "4pT8C-R67dzg",
        "outputId": "b4755221-5365-4942-c6ee-33863b32ce93"
      },
      "outputs": [
        {
          "output_type": "stream",
          "name": "stdout",
          "text": [
            "Ifti\n",
            "<class 'dict'>\n"
          ]
        }
      ],
      "source": [
        "\n",
        "my_dict={1:\"Nafeej\", 2:\"Ifti\", 3:\"Babu\"}\n",
        "\n",
        "print(my_dict[2])\n",
        "print(type(my_dict))"
      ]
    },
    {
      "cell_type": "markdown",
      "metadata": {
        "id": "ZijwpH-18jJI"
      },
      "source": [
        "f. String(double quotation recommended,single quotation and triple quotation also applicable)"
      ]
    },
    {
      "cell_type": "code",
      "execution_count": null,
      "metadata": {
        "colab": {
          "base_uri": "https://localhost:8080/"
        },
        "id": "h2k-OPCa8qDa",
        "outputId": "00ed67b6-ed47-490a-8386-317c6dfda29c"
      },
      "outputs": [
        {
          "output_type": "stream",
          "name": "stdout",
          "text": [
            "hello\n",
            "Samia\n",
            "champ\n",
            "<class 'str'>\n"
          ]
        }
      ],
      "source": [
        "print('hello')\n",
        "print('''Samia''')\n",
        "print(\"champ\")\n",
        "print(type(\"hello\"))"
      ]
    },
    {
      "cell_type": "markdown",
      "metadata": {
        "id": "Jy2GJEMU8zbp"
      },
      "source": [
        "g. Boolean (0-false, 1-True)"
      ]
    },
    {
      "cell_type": "code",
      "execution_count": null,
      "metadata": {
        "colab": {
          "base_uri": "https://localhost:8080/"
        },
        "id": "mgEAAg2H86u_",
        "outputId": "61aa1289-6031-4e97-93b0-f50f1a1a2f03"
      },
      "outputs": [
        {
          "output_type": "stream",
          "name": "stdout",
          "text": [
            "True\n",
            "<class 'bool'>\n"
          ]
        }
      ],
      "source": [
        "flag=True\n",
        "print(flag)\n",
        "print(type(flag))"
      ]
    },
    {
      "cell_type": "markdown",
      "metadata": {
        "id": "eNSUtlqV9T8w"
      },
      "source": [
        "h. None"
      ]
    },
    {
      "cell_type": "code",
      "execution_count": null,
      "metadata": {
        "colab": {
          "base_uri": "https://localhost:8080/"
        },
        "id": "EbZiT8uq9WgH",
        "outputId": "a19fd836-31c9-4211-82a8-535b70ddddd3"
      },
      "outputs": [
        {
          "output_type": "stream",
          "name": "stdout",
          "text": [
            "None\n",
            "<class 'NoneType'>\n"
          ]
        }
      ],
      "source": [
        "none_variable=None\n",
        "print(none_variable)\n",
        "print(type(none_variable))"
      ]
    },
    {
      "cell_type": "markdown",
      "source": [
        "================================================================================"
      ],
      "metadata": {
        "id": "FzBpQyiwcmh2"
      }
    },
    {
      "cell_type": "markdown",
      "metadata": {
        "id": "u92tGakRjOm3"
      },
      "source": [
        "# 03. **Introduction to Operators :**\n"
      ]
    },
    {
      "cell_type": "markdown",
      "source": [
        "***Assignment Operators:***"
      ],
      "metadata": {
        "id": "wmCNuvO0Ywu9"
      }
    },
    {
      "cell_type": "code",
      "source": [
        "a=34\n",
        "a+=2\n",
        "print(a)\n",
        "\n",
        "a=34\n",
        "a-=2\n",
        "print(a)"
      ],
      "metadata": {
        "colab": {
          "base_uri": "https://localhost:8080/"
        },
        "id": "VmiJuqcRYztH",
        "outputId": "a27008dc-fb74-4819-a442-a1c31b838b59"
      },
      "execution_count": null,
      "outputs": [
        {
          "output_type": "stream",
          "name": "stdout",
          "text": [
            "36\n",
            "32\n"
          ]
        }
      ]
    },
    {
      "cell_type": "markdown",
      "source": [
        "***Comparision Operator: Output e boolean return korbe ***"
      ],
      "metadata": {
        "id": "U5o3AZUHX-5G"
      }
    },
    {
      "cell_type": "code",
      "source": [
        "b=4>7\n",
        "print(b)\n",
        "b!=7\n",
        "print(b)"
      ],
      "metadata": {
        "colab": {
          "base_uri": "https://localhost:8080/"
        },
        "id": "Q74pXKX6YDPN",
        "outputId": "d9e48c79-024a-403d-d840-5fc4f5e8895d"
      },
      "execution_count": null,
      "outputs": [
        {
          "output_type": "stream",
          "name": "stdout",
          "text": [
            "False\n",
            "False\n"
          ]
        }
      ]
    },
    {
      "cell_type": "markdown",
      "source": [
        "***Logical Operators: true or false***"
      ],
      "metadata": {
        "id": "mau4EMHnYNAl"
      }
    },
    {
      "cell_type": "code",
      "source": [
        "bool1=True\n",
        "bool2=False\n",
        "print(\"The value of bool1 and bool2 is\", (bool1 and bool2))\n",
        "print(\"The value of bool1 or bool2 is\", (bool1 or bool2))\n",
        "print(\"The value of not bool2 is\", (not bool2))\n"
      ],
      "metadata": {
        "colab": {
          "base_uri": "https://localhost:8080/"
        },
        "id": "vLheyS6TYQ5t",
        "outputId": "1b751394-9c99-43ab-9401-6e23d91b6c80"
      },
      "execution_count": null,
      "outputs": [
        {
          "output_type": "stream",
          "name": "stdout",
          "text": [
            "The value of bool1 and bool2 is False\n",
            "The value of bool1 or bool2 is True\n",
            "The value of not bool2 is True\n"
          ]
        }
      ]
    },
    {
      "cell_type": "markdown",
      "metadata": {
        "id": "DDwhjbbUyoaa"
      },
      "source": [
        "***Arithmetic Operators:***"
      ]
    },
    {
      "cell_type": "markdown",
      "metadata": {
        "id": "1b9Kbd5YjiMW"
      },
      "source": [
        "Remember: integer aar string er modhe kono operation hobena. \n",
        "% sign diye remainder ber kore,,\n",
        "star sign diye product,,\n",
        "double star diye power/exponential.\n"
      ]
    },
    {
      "cell_type": "code",
      "execution_count": null,
      "metadata": {
        "colab": {
          "base_uri": "https://localhost:8080/"
        },
        "id": "JsWVNgWYyrVa",
        "outputId": "b5b62ccd-6527-4f37-e587-554bc5bad5fb"
      },
      "outputs": [
        {
          "name": "stdout",
          "output_type": "stream",
          "text": [
            "124\n",
            "-14\n",
            "3795\n",
            "0.7971014492753623\n",
            "0\n",
            "55\n",
            "1000\n"
          ]
        }
      ],
      "source": [
        "print(55+69)\n",
        "print(55-69)\n",
        "print(55*69)\n",
        "print(55/69)\n",
        "print(55//69)\n",
        "print(55%69)\n",
        "print(10**3)"
      ]
    },
    {
      "cell_type": "code",
      "execution_count": null,
      "metadata": {
        "colab": {
          "base_uri": "https://localhost:8080/"
        },
        "id": "cGmw-oYEibQm",
        "outputId": "47cb5447-2870-40f7-b8b9-0a7bae717cc8"
      },
      "outputs": [
        {
          "name": "stdout",
          "output_type": "stream",
          "text": [
            "14\n",
            "10\n",
            "24\n",
            "6.0\n",
            "0\n"
          ]
        }
      ],
      "source": [
        "a=12\n",
        "b=2 \n",
        "print(a+b)\n",
        "print(a-b)\n",
        "print(a*b)\n",
        "print(a/b)\n",
        "print(a%b) \n",
        "print(a**b)\n",
        "print(a*b)\n"
      ]
    },
    {
      "cell_type": "markdown",
      "metadata": {
        "id": "f0Q5wxwZwpLD"
      },
      "source": [
        "***using the absolute value: using the abs functions always gives positive number***"
      ]
    },
    {
      "cell_type": "code",
      "execution_count": null,
      "metadata": {
        "colab": {
          "base_uri": "https://localhost:8080/"
        },
        "id": "PCjq4-bowuis",
        "outputId": "5118ef18-f5a3-4543-c90b-a415e659011f"
      },
      "outputs": [
        {
          "name": "stdout",
          "output_type": "stream",
          "text": [
            "41\n"
          ]
        }
      ],
      "source": [
        "a=-16\n",
        "b=25\n",
        "c=abs(a-b)\n",
        "print(c)\n"
      ]
    },
    {
      "cell_type": "markdown",
      "metadata": {
        "id": "ZUqWdv-Oj3k-"
      },
      "source": [
        "***Floor division(duita divide sign) dile only decimal er left side er gula count ***hobe."
      ]
    },
    {
      "cell_type": "code",
      "execution_count": null,
      "metadata": {
        "colab": {
          "base_uri": "https://localhost:8080/"
        },
        "id": "bDlHKuFPj804",
        "outputId": "76e1bbb4-3b19-4a81-9662-9814b36d07d4"
      },
      "outputs": [
        {
          "name": "stdout",
          "output_type": "stream",
          "text": [
            "1.75\n",
            "1\n"
          ]
        }
      ],
      "source": [
        "num_1=14\n",
        "num_2=8\n",
        "print(num_1/num_2)\n",
        "print(num_1//num_2)"
      ]
    },
    {
      "cell_type": "markdown",
      "metadata": {
        "id": "y5GqLgkwkiuO"
      },
      "source": [
        "***Two different datatypes cannot be added together***\n",
        "\n",
        "\n",
        "\n"
      ]
    },
    {
      "cell_type": "code",
      "execution_count": null,
      "metadata": {
        "colab": {
          "base_uri": "https://localhost:8080/"
        },
        "id": "whvzTW3NlRUG",
        "outputId": "a53ab9f3-3669-47f9-8db1-12a219ef89b1"
      },
      "outputs": [
        {
          "name": "stdout",
          "output_type": "stream",
          "text": [
            "22\n",
            "<class 'str'>\n"
          ]
        }
      ],
      "source": [
        "c='2'\n",
        "d='2' #string pashapashi boshbe\n",
        "print(c+d) \n",
        "print(type(c+d))"
      ]
    },
    {
      "cell_type": "code",
      "execution_count": null,
      "metadata": {
        "id": "SJ4kEU5dlczm"
      },
      "outputs": [],
      "source": [
        "a=22\n",
        "b=\"nashid\"\n",
        "print(a+b)\n",
        "# It will obviously give error \n",
        "\n"
      ]
    },
    {
      "cell_type": "markdown",
      "metadata": {
        "id": "oSbHOtaclscO"
      },
      "source": [
        "***NOTE: But in python float and integers can be added together.***"
      ]
    },
    {
      "cell_type": "code",
      "execution_count": null,
      "metadata": {
        "colab": {
          "base_uri": "https://localhost:8080/"
        },
        "id": "N7L8xlB_l2fV",
        "outputId": "5add39a7-4c3d-4bb2-fec9-c0ffec5c177a"
      },
      "outputs": [
        {
          "name": "stdout",
          "output_type": "stream",
          "text": [
            "57.65\n",
            "-52.35\n",
            "<class 'float'>\n"
          ]
        }
      ],
      "source": [
        "a=2.65\n",
        "b=55\n",
        "print(a+b)\n",
        "print(a-b)\n",
        "print(type(a+b))\n"
      ]
    },
    {
      "cell_type": "markdown",
      "metadata": {
        "id": "xPathtvbmIJm"
      },
      "source": [
        "***Forecefully print '2+2' can you??***"
      ]
    },
    {
      "cell_type": "code",
      "execution_count": null,
      "metadata": {
        "colab": {
          "base_uri": "https://localhost:8080/"
        },
        "id": "8gdCsWnzmMz2",
        "outputId": "c8d2d54e-41c2-4612-ec6f-81acd1a740c3"
      },
      "outputs": [
        {
          "name": "stdout",
          "output_type": "stream",
          "text": [
            "2  +  2\n"
          ]
        }
      ],
      "source": [
        "a=\"2\"\n",
        "b=\"2\"\n",
        "c=(a+\"  +  \"+b)\n",
        "print(c)\n"
      ]
    },
    {
      "cell_type": "code",
      "source": [
        "a=2\n",
        "b=2\n",
        "print(f\"{a} + {b} \")"
      ],
      "metadata": {
        "colab": {
          "base_uri": "https://localhost:8080/"
        },
        "id": "Ar2AYjjo1EFK",
        "outputId": "a24d375a-717f-451a-d15a-73331735b159"
      },
      "execution_count": null,
      "outputs": [
        {
          "output_type": "stream",
          "name": "stdout",
          "text": [
            "2 + 2 \n"
          ]
        }
      ]
    },
    {
      "cell_type": "markdown",
      "source": [
        "# Ceil Function"
      ],
      "metadata": {
        "id": "FffIdodaFkK5"
      }
    },
    {
      "cell_type": "code",
      "source": [
        "import math\n",
        "print(math.ceil(1.4))  #ceil diye aktala upore uthai dibe\n",
        "print(math.ceil(5.3))\n",
        "print(math.ceil(-5.8)) #caution\n",
        "print(math.ceil(22.6))\n",
        "print(math.ceil(10.1))"
      ],
      "metadata": {
        "colab": {
          "base_uri": "https://localhost:8080/"
        },
        "id": "3jnoRWW9FnVY",
        "outputId": "cd7958db-895e-4a0e-a314-1b68b7d4c919"
      },
      "execution_count": null,
      "outputs": [
        {
          "output_type": "stream",
          "name": "stdout",
          "text": [
            "2\n",
            "6\n",
            "-5\n",
            "23\n",
            "11\n"
          ]
        }
      ]
    },
    {
      "cell_type": "markdown",
      "source": [
        "# Floor function"
      ],
      "metadata": {
        "id": "UYlcswLkGGv4"
      }
    },
    {
      "cell_type": "code",
      "source": [
        "import math   \n",
        "  \n",
        "# prints using floor() method #aktala niche namai dibe\n",
        "print(math.floor(-23.11)) #-23-1=-24\n",
        "print(math.floor(300.16))\n",
        "print(math.floor(5.99))"
      ],
      "metadata": {
        "colab": {
          "base_uri": "https://localhost:8080/"
        },
        "id": "id52doLlGJSr",
        "outputId": "93f1b5fe-abd1-47f6-b245-6980a8347e58"
      },
      "execution_count": null,
      "outputs": [
        {
          "output_type": "stream",
          "name": "stdout",
          "text": [
            "-24\n",
            "300\n",
            "5\n"
          ]
        }
      ]
    },
    {
      "cell_type": "markdown",
      "metadata": {
        "id": "n9ysqZRRmiPm"
      },
      "source": [
        "# **Introduction To round function**\n",
        "\n",
        "\n",
        "\n"
      ]
    },
    {
      "cell_type": "code",
      "execution_count": null,
      "metadata": {
        "colab": {
          "base_uri": "https://localhost:8080/"
        },
        "id": "OWwLshO_miw2",
        "outputId": "16838812-66ec-4cf0-e9ec-04ab20717c30"
      },
      "outputs": [
        {
          "name": "stdout",
          "output_type": "stream",
          "text": [
            "0.3333333333333333\n",
            "0.33\n"
          ]
        }
      ],
      "source": [
        "a=1\n",
        "b=3\n",
        "print(a/b)\n",
        "print(round(a/b,2))\n"
      ]
    },
    {
      "cell_type": "markdown",
      "metadata": {
        "id": "9mV105MRoO0c"
      },
      "source": [
        "***String and float cannot be multiplied***"
      ]
    },
    {
      "cell_type": "code",
      "execution_count": null,
      "metadata": {
        "id": "MFGkmmZnoZAF"
      },
      "outputs": [],
      "source": [
        "a='5' #string and floatcannot be multiplied...error dibe\n",
        "b=2.34\n",
        "c=(b*a)\n",
        "print(c)"
      ]
    },
    {
      "cell_type": "markdown",
      "metadata": {
        "id": "Uyzz4x20odve"
      },
      "source": [
        "**string and int will give different result. THis is interesting like ami string** **e jei jinista dibo oita b er value times print korbe.**"
      ]
    },
    {
      "cell_type": "code",
      "execution_count": null,
      "metadata": {
        "colab": {
          "base_uri": "https://localhost:8080/"
        },
        "id": "Al1wPncGogSl",
        "outputId": "833410bc-6513-4f16-f72b-5025e58fe68b"
      },
      "outputs": [
        {
          "name": "stdout",
          "output_type": "stream",
          "text": [
            "55555555555555555555\n"
          ]
        }
      ],
      "source": [
        "a=\"5\" #string and int will give different result\n",
        "b=20\n",
        "c=(b*a)\n",
        "print(c)"
      ]
    },
    {
      "cell_type": "code",
      "execution_count": null,
      "metadata": {
        "colab": {
          "base_uri": "https://localhost:8080/"
        },
        "id": "ZN2wbsg2otbP",
        "outputId": "1137dbae-a15e-4201-846e-120da655c9c7"
      },
      "outputs": [
        {
          "name": "stdout",
          "output_type": "stream",
          "text": [
            "👶👶👶👶👶👶👶👶👶👶\n"
          ]
        }
      ],
      "source": [
        "a=\" '-' \" \n",
        "a=\"👶\"\n",
        "b=10\n",
        "c=(b*a)\n",
        "print(c)"
      ]
    },
    {
      "cell_type": "code",
      "execution_count": null,
      "metadata": {
        "colab": {
          "base_uri": "https://localhost:8080/"
        },
        "id": "zHLWP6WRpU_F",
        "outputId": "378218c1-cb22-480c-eb0d-2acee445848a"
      },
      "outputs": [
        {
          "name": "stdout",
          "output_type": "stream",
          "text": [
            "👌 ☹️ 👀 👌 ☹️ 👀 👌 ☹️ 👀 👌 ☹️ 👀 👌 ☹️ 👀 👌 ☹️ 👀 👌 ☹️ 👀 👌 ☹️ 👀 👌 ☹️ 👀 👌 ☹️ 👀 \n",
            "<class 'str'>\n"
          ]
        }
      ],
      "source": [
        "a=\"👌 ☹️ 👀 \"\n",
        "b=10\n",
        "c=(b*a)\n",
        "print(c)\n",
        "print(type(a*b))\n"
      ]
    },
    {
      "cell_type": "code",
      "execution_count": null,
      "metadata": {
        "colab": {
          "base_uri": "https://localhost:8080/"
        },
        "id": "hPDL3LOKpnkc",
        "outputId": "4885005e-ae03-4e43-c388-14c926f8f6d0"
      },
      "outputs": [
        {
          "name": "stdout",
          "output_type": "stream",
          "text": [
            " 🎌  🎌  🎌  🎌  🎌  🎌  🎌  🎌  🎌  🎌 \n"
          ]
        }
      ],
      "source": [
        "a=\" 🎌 \"\n",
        "b=10\n",
        "print(a*b)\n",
        "print(type(a*b))"
      ]
    },
    {
      "cell_type": "code",
      "execution_count": null,
      "metadata": {
        "colab": {
          "base_uri": "https://localhost:8080/"
        },
        "id": "TIXpBFousCb0",
        "outputId": "9178e20e-30be-47e8-c18f-b4c315609dc4"
      },
      "outputs": [
        {
          "name": "stdout",
          "output_type": "stream",
          "text": [
            " ♛  ♛  ♛  ♛  ♛  ♛  ♛  ♛  ♛  ♛ \n",
            "<class 'str'>\n"
          ]
        }
      ],
      "source": [
        "a=\" ♛ \"\n",
        "b=10\n",
        "print(a*b)\n",
        "print(type(a*b))"
      ]
    },
    {
      "cell_type": "markdown",
      "source": [
        "# sep"
      ],
      "metadata": {
        "id": "RF8umbpSxuBw"
      }
    },
    {
      "cell_type": "code",
      "source": [
        "print('foo','meow','bark',sep='/')"
      ],
      "metadata": {
        "colab": {
          "base_uri": "https://localhost:8080/"
        },
        "id": "h4enOd7nxxWZ",
        "outputId": "9c5552ec-f641-4c8f-ea4d-fd1e7b4b3ccc"
      },
      "execution_count": null,
      "outputs": [
        {
          "output_type": "stream",
          "name": "stdout",
          "text": [
            "foo/meow/bark\n"
          ]
        }
      ]
    },
    {
      "cell_type": "code",
      "source": [
        "print('foo','meow','bark',sep='.......')"
      ],
      "metadata": {
        "colab": {
          "base_uri": "https://localhost:8080/"
        },
        "id": "o0IBYYVtyOgJ",
        "outputId": "6dd2604a-a93c-4727-ca68-0793e110c404"
      },
      "execution_count": null,
      "outputs": [
        {
          "output_type": "stream",
          "name": "stdout",
          "text": [
            "foo.......meow.......bark\n"
          ]
        }
      ]
    },
    {
      "cell_type": "markdown",
      "source": [
        "# end"
      ],
      "metadata": {
        "id": "AlfciWxHyh-a"
      }
    },
    {
      "cell_type": "code",
      "source": [
        "print('foo',end=' ')\n",
        "print('foo',end=' ')\n",
        "print('foo',end=' ')"
      ],
      "metadata": {
        "colab": {
          "base_uri": "https://localhost:8080/"
        },
        "id": "RefK-_Ebyjkw",
        "outputId": "5ef53381-1441-4c61-a986-e2858507ce51"
      },
      "execution_count": null,
      "outputs": [
        {
          "output_type": "stream",
          "name": "stdout",
          "text": [
            "foo foo foo "
          ]
        }
      ]
    },
    {
      "cell_type": "code",
      "source": [
        "print(\"Python is fun\")\n",
        "print(\"Python\", end=\"//\")\n",
        "print(\"is\", end=\"//\")\n",
        "print(\"fun\")"
      ],
      "metadata": {
        "colab": {
          "base_uri": "https://localhost:8080/"
        },
        "id": "oz72rg7Iz6lY",
        "outputId": "d111bea1-634d-4931-be0c-0eca8f8558fc"
      },
      "execution_count": null,
      "outputs": [
        {
          "output_type": "stream",
          "name": "stdout",
          "text": [
            "Python is fun\n",
            "Python//is//fun\n"
          ]
        }
      ]
    },
    {
      "cell_type": "markdown",
      "metadata": {
        "id": "qF9sDX2HtWil"
      },
      "source": [
        "**RELATIONAL OPERATORS: HOW TO USE INCREMENT AND DECREMENT**"
      ]
    },
    {
      "cell_type": "code",
      "execution_count": null,
      "metadata": {
        "colab": {
          "base_uri": "https://localhost:8080/"
        },
        "id": "QCtne6xZtskM",
        "outputId": "81963e31-3ada-4ae7-8834-f03e8ced8706"
      },
      "outputs": [
        {
          "name": "stdout",
          "output_type": "stream",
          "text": [
            "2\n",
            "4\n",
            "6\n"
          ]
        }
      ],
      "source": [
        "a=2\n",
        "print(a)\n",
        "a=a+2\n",
        "print(a)\n",
        "a+=2\n",
        "print(a)\n"
      ]
    },
    {
      "cell_type": "markdown",
      "metadata": {
        "id": "4BoepX1lui9O"
      },
      "source": [
        "Relational Operators \n",
        "<\t  less than\n",
        "\n",
        "1.   <\t  less than\n",
        "\n",
        "2.   >\t  greater than\n",
        "\n",
        "3.   <=\tless than or equal to\n",
        "4.   >=\tgreater than or equal to\n",
        "5.   ==\tequality (equal to)\n",
        "\n",
        "Boolean operators\n",
        "1.  True\n",
        "2. False\n",
        "\n"
      ]
    },
    {
      "cell_type": "code",
      "execution_count": null,
      "metadata": {
        "colab": {
          "base_uri": "https://localhost:8080/"
        },
        "id": "zxZqAdaJu1pb",
        "outputId": "1dc72124-b352-4d65-e288-2852785a4dd3"
      },
      "outputs": [
        {
          "name": "stdout",
          "output_type": "stream",
          "text": [
            "False\n",
            "True\n",
            "False\n",
            "True\n",
            "True\n",
            "False\n"
          ]
        }
      ],
      "source": [
        "a=20\n",
        "b=30\n",
        "print(a==b)\n",
        "print(a!=b)\n",
        "print(a>=b)\n",
        "print(a<=b)\n",
        "print(a<b)\n",
        "print(a>b)\n"
      ]
    },
    {
      "cell_type": "markdown",
      "metadata": {
        "id": "yv6zPKt5ve2S"
      },
      "source": [
        "**Membership Operator**\n",
        "**in and not in**\n",
        "**akta character oitar modhe ase naki sheta bujhar jonno**"
      ]
    },
    {
      "cell_type": "code",
      "execution_count": null,
      "metadata": {
        "colab": {
          "base_uri": "https://localhost:8080/"
        },
        "id": "9YRONnVbvoBD",
        "outputId": "75841079-3e59-4f48-cdb9-856a4e170476"
      },
      "outputs": [
        {
          "name": "stdout",
          "output_type": "stream",
          "text": [
            "True\n",
            "False\n",
            "False\n",
            "False\n",
            "True\n",
            "True\n"
          ]
        }
      ],
      "source": [
        "name=\"Mahjabin\"\n",
        "print('M' in name)\n",
        "print('O' in name)\n",
        "print('K' in name)\n",
        "print('M' not in name)\n",
        "print('q' not in name)\n",
        "print('p' not in name)"
      ]
    },
    {
      "cell_type": "markdown",
      "metadata": {
        "id": "e55zMSlvv9os"
      },
      "source": [
        "***Identity Operators:***"
      ]
    },
    {
      "cell_type": "code",
      "execution_count": null,
      "metadata": {
        "colab": {
          "base_uri": "https://localhost:8080/"
        },
        "id": "c2Mq6-KLwB27",
        "outputId": "6b551a18-478e-42bf-8dcf-e6755102c86a"
      },
      "outputs": [
        {
          "output_type": "stream",
          "name": "stdout",
          "text": [
            "False\n",
            "True\n"
          ]
        }
      ],
      "source": [
        "x=\"Nashid\"\n",
        "y=\"Ifti\"\n",
        "print(x is y)\n",
        "print(x is not y)\n"
      ]
    },
    {
      "cell_type": "markdown",
      "source": [
        "================================================================================"
      ],
      "metadata": {
        "id": "AMS93LTwcfN2"
      }
    },
    {
      "cell_type": "markdown",
      "source": [
        "Logical Operators(and,or,not)"
      ],
      "metadata": {
        "id": "23f4jxfq255p"
      }
    },
    {
      "cell_type": "code",
      "source": [
        "a=10\n",
        "b=20\n",
        "if (a>15 and a<20):\n",
        "  print(\"Both conditions are true\")\n",
        "if (b<30 or b>50):\n",
        "  print(\"ekta true\")\n",
        "\n",
        "x=7\n",
        "print(x>5)\n",
        "print(not(x>5))"
      ],
      "metadata": {
        "colab": {
          "base_uri": "https://localhost:8080/"
        },
        "id": "XAp4ZINF2-UP",
        "outputId": "4e64b7c5-fb85-44cf-9c3d-b9f7176d0c48"
      },
      "execution_count": null,
      "outputs": [
        {
          "output_type": "stream",
          "name": "stdout",
          "text": [
            "ekta true\n",
            "False\n"
          ]
        }
      ]
    },
    {
      "cell_type": "markdown",
      "metadata": {
        "id": "77_c2XYCwNQT"
      },
      "source": [
        "****** 2. Basic writing in python **"
      ]
    },
    {
      "cell_type": "code",
      "execution_count": null,
      "metadata": {
        "colab": {
          "base_uri": "https://localhost:8080/"
        },
        "id": "qM44pKNbx26K",
        "outputId": "22920ddb-74bd-4924-f2b8-4911809c2be9"
      },
      "outputs": [
        {
          "name": "stdout",
          "output_type": "stream",
          "text": [
            "Hello Freshers!\n",
            "Coding will give you many pains untill you start having fun \n",
            "3\n",
            "92.4\n"
          ]
        }
      ],
      "source": [
        "print(\"Hello Freshers!\")\n",
        "print(\"Coding will give you many pains untill you start having fun \")\n",
        "print(3)\n",
        "print(92.4)\n"
      ]
    },
    {
      "cell_type": "markdown",
      "metadata": {
        "id": "4D7YCHGeykty"
      },
      "source": [
        "In order to line multiple lines we will use triple single code instead of repeated print functions:"
      ]
    },
    {
      "cell_type": "code",
      "execution_count": null,
      "metadata": {
        "colab": {
          "base_uri": "https://localhost:8080/"
        },
        "id": "IVXFZU6EzF9a",
        "outputId": "83c7c784-e5a5-4b57-fa9a-efa8826274f4"
      },
      "outputs": [
        {
          "name": "stdout",
          "output_type": "stream",
          "text": [
            "Twinkle, twinkle, little star,\n",
            "How I wonder what you are!\n",
            "Up above the world so high,\n",
            "Like a diamond in the sky.\n",
            "Twinkle, twinkle, little star,\n",
            "How I wonder what you are\n"
          ]
        }
      ],
      "source": [
        "print('''Twinkle, twinkle, little star,\n",
        "How I wonder what you are!\n",
        "Up above the world so high,\n",
        "Like a diamond in the sky.\n",
        "Twinkle, twinkle, little star,\n",
        "How I wonder what you are''')"
      ]
    },
    {
      "cell_type": "markdown",
      "metadata": {
        "id": "Zfv0WnHTzcyx"
      },
      "source": [
        "strings can be also written by single code"
      ]
    },
    {
      "cell_type": "code",
      "execution_count": null,
      "metadata": {
        "colab": {
          "base_uri": "https://localhost:8080/"
        },
        "id": "4xE4OWxAz7L6",
        "outputId": "2c8fbcd4-c027-4f35-db73-41f23cdd3be9"
      },
      "outputs": [
        {
          "name": "stdout",
          "output_type": "stream",
          "text": [
            "mushi mushi\n"
          ]
        }
      ],
      "source": [
        "print('mushi mushi')"
      ]
    },
    {
      "cell_type": "markdown",
      "metadata": {
        "id": "ZZ6v1yknz_7L"
      },
      "source": [
        "*****Comments*** comments are words that are not seen by compiler"
      ]
    },
    {
      "cell_type": "markdown",
      "metadata": {
        "id": "TI2O1aHJ0JXN"
      },
      "source": [
        "Comments can be written by hashtag/ctrl+backslash/triple single code"
      ]
    },
    {
      "cell_type": "code",
      "execution_count": null,
      "metadata": {
        "id": "LiJZAQnh0fJB"
      },
      "outputs": [],
      "source": [
        "#hello can you please bring a cup of coffee for me\n",
        "# '''Stay away from those people who try to disparage your ambitions.'''\n",
        "# '''Small minds will always do that, but great minds will give you a feeling'''\n",
        "# '''that you can become great too'''\n",
        "# When you give joy to other people, you get more joy in return. \n",
        "# You should give a good thought to happiness that you can give out\n"
      ]
    },
    {
      "cell_type": "code",
      "execution_count": null,
      "metadata": {
        "colab": {
          "base_uri": "https://localhost:8080/"
        },
        "id": "-BCtYyge-EJJ",
        "outputId": "410faf59-6462-459a-b35c-c876f04dc43f"
      },
      "outputs": [
        {
          "name": "stdout",
          "output_type": "stream",
          "text": [
            "Work smarter not harder\n"
          ]
        }
      ],
      "source": [
        "print(\"Work smarter not harder\")"
      ]
    },
    {
      "cell_type": "markdown",
      "metadata": {
        "id": "i6nV1Vqv-ptf"
      },
      "source": [
        "# Keywords in Python. You cannot use this keywords as variable name"
      ]
    },
    {
      "cell_type": "markdown",
      "metadata": {
        "id": "SxxIlTCR-vi2"
      },
      "source": [
        "# **04. TAKE INPUT FFROM USER**"
      ]
    },
    {
      "cell_type": "code",
      "execution_count": null,
      "metadata": {
        "colab": {
          "base_uri": "https://localhost:8080/"
        },
        "id": "MWKz3Sno_PgH",
        "outputId": "fa3664a5-35ae-464b-c409-8ccac367a6f4"
      },
      "outputs": [
        {
          "name": "stdout",
          "output_type": "stream",
          "text": [
            "DUALIPA\n",
            "DUALIPA\n",
            "Hello DUALIPA\n"
          ]
        }
      ],
      "source": [
        "user=input()\n",
        "print(user)\n",
        "print(\"Hello\",user)"
      ]
    },
    {
      "cell_type": "code",
      "execution_count": null,
      "metadata": {
        "colab": {
          "base_uri": "https://localhost:8080/"
        },
        "id": "2rS9IHTt_XM-",
        "outputId": "1bf8e8ea-31bd-47fe-8fab-82828179a67e"
      },
      "outputs": [
        {
          "name": "stdout",
          "output_type": "stream",
          "text": [
            "Say my name 2\n",
            "It's mastermind 2\n"
          ]
        }
      ],
      "source": [
        "user=input(\"Say my name \")\n",
        "print(\"It's mastermind\",user)"
      ]
    },
    {
      "cell_type": "markdown",
      "metadata": {
        "id": "D7s7sMLq_l8f"
      },
      "source": [
        "**Write a Program to add 3 numbers**"
      ]
    },
    {
      "cell_type": "code",
      "execution_count": null,
      "metadata": {
        "colab": {
          "base_uri": "https://localhost:8080/"
        },
        "id": "gF54PXP5BGpO",
        "outputId": "c3001bcd-b10d-4456-ba3f-51f5a024ebe0"
      },
      "outputs": [
        {
          "output_type": "stream",
          "name": "stdout",
          "text": [
            "Sir,please enter your first number: 5\n",
            "Sir,please enter your second number: 5\n",
            "Sir,please enter your third number: 5\n",
            "15\n"
          ]
        }
      ],
      "source": [
        "first_number=int(input(\"Sir,please enter your first number: \"))\n",
        "second_number=int(input(\"Sir,please enter your second number: \"))\n",
        "third_number=int(input(\"Sir,please enter your third number: \"))\n",
        "sum=first_number+second_number+third_number\n",
        "print(\"The sum is \",sum)"
      ]
    },
    {
      "cell_type": "markdown",
      "source": [
        "**Write a Program To subtract Two numbers**"
      ],
      "metadata": {
        "id": "YJGVk4R9HigG"
      }
    },
    {
      "cell_type": "code",
      "source": [
        "first_number=int (input(\"Please enter your first number  \"))\n",
        "second_number=int(input(\"Please enter your second number  \"))\n",
        "\n",
        "subtraction=first_number-second_number\n",
        "\n",
        "print(\"The subraction is\",subtraction)"
      ],
      "metadata": {
        "id": "AXYCjqP1QeZx",
        "colab": {
          "base_uri": "https://localhost:8080/"
        },
        "outputId": "332e8482-aecb-4ccd-b4bc-880027480b2a"
      },
      "execution_count": null,
      "outputs": [
        {
          "output_type": "stream",
          "name": "stdout",
          "text": [
            "Please enter your first number  15\n",
            "Please enter your second number  25\n",
            "The subraction is -10\n"
          ]
        }
      ]
    },
    {
      "cell_type": "markdown",
      "source": [
        "**Write a Program To multiply many numbers**"
      ],
      "metadata": {
        "id": "1hLYrZniP7rD"
      }
    },
    {
      "cell_type": "code",
      "source": [
        "first_number=int(input(\"Sir,please enter your first number: \"))\n",
        "second_number=int(input(\"Sir,please enter your second number: \"))\n",
        "third_number=int(input(\"Sir,please enter your third number: \"))\n",
        "multiply=first_number*second_number*third_number\n",
        "print(\"The product is\",multiply)"
      ],
      "metadata": {
        "id": "OxdtzD6dQHDd"
      },
      "execution_count": null,
      "outputs": []
    },
    {
      "cell_type": "markdown",
      "source": [
        "**Write a Program To find quotient of two numbers**\n",
        "\n"
      ],
      "metadata": {
        "id": "e40itjCrQja7"
      }
    },
    {
      "cell_type": "code",
      "source": [
        "first_number = int(input(\"Please enter your first number  \"))\n",
        "second_number = int(input(\"Please enter your second number  \"))\n",
        "\n",
        "quotient = round(first_number/second_number,2)\n",
        "\n",
        "print(\"The  quotient is\", quotient)"
      ],
      "metadata": {
        "colab": {
          "base_uri": "https://localhost:8080/"
        },
        "id": "J5iHNPypQnH7",
        "outputId": "1242bec8-c7df-4fc0-e9a7-f32559d044d7"
      },
      "execution_count": null,
      "outputs": [
        {
          "output_type": "stream",
          "name": "stdout",
          "text": [
            "Please enter your first number  10\n",
            "Please enter your second number  5\n",
            "The  quotient is 2.0\n"
          ]
        }
      ]
    },
    {
      "cell_type": "markdown",
      "source": [
        "**Write a Program To find remainder after division**"
      ],
      "metadata": {
        "id": "2kGxCMnQRNVc"
      }
    },
    {
      "cell_type": "code",
      "source": [
        "first_number = int(input(\"Please enter your first number  \"))\n",
        "second_number = int(input(\"Please enter your second number  \"))\n",
        "\n",
        "reminder = (first_number % second_number)\n",
        "\n",
        "print(\"The  reminder is\", reminder)"
      ],
      "metadata": {
        "colab": {
          "base_uri": "https://localhost:8080/"
        },
        "id": "4Bg-VC2hRVm0",
        "outputId": "94f2b435-b037-4ff5-dc1e-5ab4e11ad203"
      },
      "execution_count": null,
      "outputs": [
        {
          "output_type": "stream",
          "name": "stdout",
          "text": [
            "Please enter your first number  7896453\n",
            "Please enter your second number  3\n",
            "The  reminder is 0\n"
          ]
        }
      ]
    },
    {
      "cell_type": "markdown",
      "source": [
        "**Write a Program To find power of a number**"
      ],
      "metadata": {
        "id": "Ut9jCpadR9SD"
      }
    },
    {
      "cell_type": "code",
      "source": [
        "first_number = int(input(\"Please enter your first number  \"))\n",
        "second_number = int(input(\"Please enter your second number  \"))\n",
        "\n",
        "power_ = (first_number**second_number)\n",
        "\n",
        "print(\"The  Power is\", power_)\n"
      ],
      "metadata": {
        "colab": {
          "base_uri": "https://localhost:8080/"
        },
        "id": "bW8dlp5lSC2i",
        "outputId": "10240a2f-ada6-45ca-a0fc-910eecf27a4c"
      },
      "execution_count": null,
      "outputs": [
        {
          "output_type": "stream",
          "name": "stdout",
          "text": [
            "Please enter your first number  10\n",
            "Please enter your second number  3\n",
            "The  Power is 1000\n"
          ]
        }
      ]
    },
    {
      "cell_type": "markdown",
      "source": [
        "**Write a Program To find average of three numbers**"
      ],
      "metadata": {
        "id": "NisZAfOCamI-"
      }
    },
    {
      "cell_type": "code",
      "source": [
        "first_number=int(input(\"Sir,please enter your first number: \"))\n",
        "second_number=int(input(\"Sir,please enter your second number: \"))\n",
        "third_number=int(input(\"Sir,please enter your third number: \"))\n",
        "average=(first_number+second_number+third_number)/3\n",
        "print(\"The mean is\",average)"
      ],
      "metadata": {
        "id": "L8rcKd32atoF"
      },
      "execution_count": null,
      "outputs": []
    },
    {
      "cell_type": "markdown",
      "source": [
        "**Write a Program To find square of two numbers**"
      ],
      "metadata": {
        "id": "cKXv52nubX3v"
      }
    },
    {
      "cell_type": "code",
      "source": [
        "num_1=int(input(\"Sir,please enter your first number: \"))\n",
        "print(\"The square is\",num_1**2)\n"
      ],
      "metadata": {
        "colab": {
          "base_uri": "https://localhost:8080/"
        },
        "id": "fka2aqK3ba6t",
        "outputId": "275b0244-be5d-4be4-bd37-7e6ff02f7124"
      },
      "execution_count": null,
      "outputs": [
        {
          "output_type": "stream",
          "name": "stdout",
          "text": [
            "Sir,please enter your first number: 2\n",
            "The square is 4\n"
          ]
        }
      ]
    },
    {
      "cell_type": "markdown",
      "source": [
        "--------------------------------------------------------------------------------\n",
        "\n",
        "\n"
      ],
      "metadata": {
        "id": "w3_C3m8IcR_1"
      }
    },
    {
      "cell_type": "markdown",
      "source": [
        "**05. Typecasting** (Convert one datatype into another)"
      ],
      "metadata": {
        "id": "vThWdPSeSISq"
      }
    },
    {
      "cell_type": "markdown",
      "source": [
        "a. convert string to integer:- (jeita integer thakbe but double code er modhe ase shegula parbe"
      ],
      "metadata": {
        "id": "VogWo0l9VvE9"
      }
    },
    {
      "cell_type": "code",
      "source": [
        "a=\"6528\"\n",
        "a=int (a)\n",
        "print(type(a))\n",
        "print(a)\n",
        "print(a+5)\n"
      ],
      "metadata": {
        "colab": {
          "base_uri": "https://localhost:8080/"
        },
        "id": "RVo5u45_Vzn1",
        "outputId": "a3a52815-e6cb-4b2f-f9fa-402936a08302"
      },
      "execution_count": null,
      "outputs": [
        {
          "output_type": "stream",
          "name": "stdout",
          "text": [
            "<class 'int'>\n",
            "6528\n",
            "6533\n"
          ]
        }
      ]
    },
    {
      "cell_type": "markdown",
      "source": [
        "b.Convert into string:-"
      ],
      "metadata": {
        "id": "sK3ttxqGWbvd"
      }
    },
    {
      "cell_type": "code",
      "source": [
        "a=75\n",
        "a=str(a)\n",
        "print(type(a))\n",
        "print(a+'+Dualipa')"
      ],
      "metadata": {
        "colab": {
          "base_uri": "https://localhost:8080/"
        },
        "id": "Lpp4l96VWuMV",
        "outputId": "056b9bf4-dd86-42fe-eb3d-b57758a6a160"
      },
      "execution_count": null,
      "outputs": [
        {
          "output_type": "stream",
          "name": "stdout",
          "text": [
            "<class 'str'>\n",
            "75+Dualipa\n"
          ]
        }
      ]
    },
    {
      "cell_type": "markdown",
      "source": [
        "c.Convert into float:-"
      ],
      "metadata": {
        "id": "VvAun5L9XJYV"
      }
    },
    {
      "cell_type": "code",
      "source": [
        "a=56\n",
        "a=float(a)\n",
        "print(type(a))\n",
        "print(a)"
      ],
      "metadata": {
        "colab": {
          "base_uri": "https://localhost:8080/"
        },
        "id": "WEPGmUBnXSBo",
        "outputId": "a38e343e-73c9-4106-fcc8-501177628482"
      },
      "execution_count": null,
      "outputs": [
        {
          "output_type": "stream",
          "name": "stdout",
          "text": [
            "<class 'float'>\n",
            "56.0\n"
          ]
        }
      ]
    },
    {
      "cell_type": "markdown",
      "source": [
        "================================================================================"
      ],
      "metadata": {
        "id": "09_-90IQdKA-"
      }
    },
    {
      "cell_type": "markdown",
      "source": [
        "**Strings** Concatenating"
      ],
      "metadata": {
        "id": "0SDNsveVdMyn"
      }
    },
    {
      "cell_type": "markdown",
      "source": [],
      "metadata": {
        "id": "gzvhZTBVd0Qt"
      }
    },
    {
      "cell_type": "code",
      "source": [
        "greeting=\"Good Morning \"\n",
        "name=\"Ramisa\"\n",
        "print(type(name))\n",
        "print(greeting+name)\n",
        "\n"
      ],
      "metadata": {
        "colab": {
          "base_uri": "https://localhost:8080/"
        },
        "id": "7-CNaOGXdO8F",
        "outputId": "4930cbd3-193f-4598-9d74-3741680a848d"
      },
      "execution_count": null,
      "outputs": [
        {
          "output_type": "stream",
          "name": "stdout",
          "text": [
            "<class 'str'>\n",
            "Good Morning Ramisa\n"
          ]
        }
      ]
    },
    {
      "cell_type": "markdown",
      "source": [
        "**String Slicing**"
      ],
      "metadata": {
        "id": "jde6C94Xdx4l"
      }
    },
    {
      "cell_type": "code",
      "source": [
        "name=\"Reyna\"\n",
        "print(name[3])\n",
        "name=\"jett\"\n",
        "print(name[0])\n",
        "print(name[-4:-1]) #is same as print(name[0:3]) #Negative indices \n",
        "print(name[0:3])\n",
        "name=\"pneumonoultramicroscopicsilicovolcanocoinosis\"\n",
        "print(name[25])\n",
        "name=\"Best Friend Forever\"\n",
        "print(name[:4]) #is same as print(name[0:4])\n",
        "print(name[0:]) #is same as 0 to 19 (full length)\n",
        "print(name[5:11])\n",
        "print(name[12:19])\n"
      ],
      "metadata": {
        "colab": {
          "base_uri": "https://localhost:8080/"
        },
        "id": "EGx7DkfAeFyN",
        "outputId": "aa6636bc-8a8d-4717-8388-ead2550577ee"
      },
      "execution_count": null,
      "outputs": [
        {
          "output_type": "stream",
          "name": "stdout",
          "text": [
            "n\n",
            "j\n",
            "jet\n",
            "jet\n",
            "i\n",
            "Best\n",
            "Best Friend Forever\n",
            "Friend\n",
            "Forever\n"
          ]
        }
      ]
    },
    {
      "cell_type": "markdown",
      "source": [
        "*Slicing with Skip value*"
      ],
      "metadata": {
        "id": "Opq1ZK2JiRMd"
      }
    },
    {
      "cell_type": "code",
      "source": [
        "name=\"HometownChaCha\"\n",
        "print(name[0::2]) #empty rakle full legth e count korbe. jokhon ami length jani na tokhon ami empty rakhbo\n",
        "#eikhane amra deklam je o akta kore letter skip kore print kortese.\n",
        "\n",
        "print(name[0::5])"
      ],
      "metadata": {
        "colab": {
          "base_uri": "https://localhost:8080/"
        },
        "id": "N4G-cjXPigye",
        "outputId": "d75213cc-11d2-4059-cda9-44efe443f9d3"
      },
      "execution_count": null,
      "outputs": [
        {
          "output_type": "stream",
          "name": "stdout",
          "text": [
            "HmtwCah\n",
            "Hoa\n"
          ]
        }
      ]
    },
    {
      "cell_type": "markdown",
      "source": [
        "*String Functions*"
      ],
      "metadata": {
        "id": "wt5kOm75jk91"
      }
    },
    {
      "cell_type": "code",
      "source": [
        "# length function prints the total length of the story\n",
        "\n",
        "story=\"Opportunities don't happen, you create them\"\n",
        "print(len(story))\n"
      ],
      "metadata": {
        "colab": {
          "base_uri": "https://localhost:8080/"
        },
        "id": "KpSwOCCEjnUl",
        "outputId": "fcfbec11-0f1d-4ab4-f5a4-715f040b9a22"
      },
      "execution_count": null,
      "outputs": [
        {
          "output_type": "stream",
          "name": "stdout",
          "text": [
            "43\n",
            "True\n"
          ]
        }
      ]
    },
    {
      "cell_type": "code",
      "source": [
        "# endswith function prints whether the story endswith that letter or not\n",
        "\n",
        "story=\"Love your family, work super hard, live your passion\"\n",
        "print(story.endswith(\"passion\"))\n"
      ],
      "metadata": {
        "colab": {
          "base_uri": "https://localhost:8080/"
        },
        "id": "by_fwa-3o9l3",
        "outputId": "840b98e2-65d8-48de-a9ea-27df66b8839a"
      },
      "execution_count": null,
      "outputs": [
        {
          "output_type": "stream",
          "name": "stdout",
          "text": [
            "True\n"
          ]
        }
      ]
    },
    {
      "cell_type": "code",
      "source": [
        "#count functions count \n",
        "\n",
        "story=\"You can get everything in life you want if you will just help enough other people get what they want.\"\n",
        "print(story.count(\"a\"))\n",
        "print(story.count(\"e\"))\n",
        "print(story.count(\"ge\"))\n",
        "print(story.count(\"life\"))"
      ],
      "metadata": {
        "colab": {
          "base_uri": "https://localhost:8080/"
        },
        "id": "VGaVejiZpYO-",
        "outputId": "6c6ac8cb-49a4-4606-fb2c-1926983da966"
      },
      "execution_count": null,
      "outputs": [
        {
          "output_type": "stream",
          "name": "stdout",
          "text": [
            "4\n",
            "11\n",
            "2\n",
            "1\n"
          ]
        }
      ]
    },
    {
      "cell_type": "code",
      "source": [
        "#capitalize functions capitalizes\n",
        "\n",
        "story=\"don't settle for average\"\n",
        "print(story.capitalize())\n"
      ],
      "metadata": {
        "colab": {
          "base_uri": "https://localhost:8080/"
        },
        "id": "cXxQVgnjuMOM",
        "outputId": "eea23b2d-53a7-460b-a492-3ccd18b59a5c"
      },
      "execution_count": null,
      "outputs": [
        {
          "output_type": "stream",
          "name": "stdout",
          "text": [
            "Don't settle for average\n"
          ]
        }
      ]
    },
    {
      "cell_type": "code",
      "source": [
        "#Find Function finds a word and returns the index of first occurence of that word in the string.\n",
        "\n",
        "story=\"If you can dream it, you can do it\"\n",
        "print(story.find(\"If\"))\n",
        "print(story.find(\"dream\"))\n",
        "print(story.find(\"oops\"))  #oops name diye kisu nai taay minus e dekhacche\n",
        "print(story.find(\"it\"))"
      ],
      "metadata": {
        "colab": {
          "base_uri": "https://localhost:8080/"
        },
        "id": "18mSL3xXuhoV",
        "outputId": "fc1c3794-c9ab-4179-cad7-c9ece705e1d3"
      },
      "execution_count": null,
      "outputs": [
        {
          "output_type": "stream",
          "name": "stdout",
          "text": [
            "0\n",
            "11\n",
            "-1\n",
            "17\n"
          ]
        }
      ]
    },
    {
      "cell_type": "code",
      "source": [
        "#Replace function replaces the word with new word\n",
        "\n",
        "story=\"The greatest glory in living lies not in never falling, but in rising every time we fall\"\n",
        "print(story.replace(\"living\", \"dying\"))\n"
      ],
      "metadata": {
        "colab": {
          "base_uri": "https://localhost:8080/"
        },
        "id": "RU4Dv5V5vTdU",
        "outputId": "5322193c-2c38-462f-bba9-1af85a3372e9"
      },
      "execution_count": null,
      "outputs": [
        {
          "output_type": "stream",
          "name": "stdout",
          "text": [
            "The greatest glory in dying lies not in never falling, but in rising every time we fall\n"
          ]
        }
      ]
    },
    {
      "cell_type": "markdown",
      "source": [
        "================================================================================"
      ],
      "metadata": {
        "id": "BB6cTMdWvyjc"
      }
    },
    {
      "cell_type": "markdown",
      "source": [
        "**Escape Sequence Character** \n",
        "\\n = new line,\n",
        "\\t =tab,\n",
        "\\' =single quote,\n",
        "\\\\ =backslash.\n"
      ],
      "metadata": {
        "id": "-lh5-mtVv3EF"
      }
    },
    {
      "cell_type": "code",
      "source": [
        "story=\"Just one small positive thought\\\\ in the morning can change\\' your whole day.\\nLove your family,\\t work super hard, live your passion.\"\n",
        "print(story)"
      ],
      "metadata": {
        "colab": {
          "base_uri": "https://localhost:8080/"
        },
        "id": "TSLoWMQwv53l",
        "outputId": "a63fe7d2-8b9c-401d-d713-9462fbe503b6"
      },
      "execution_count": null,
      "outputs": [
        {
          "output_type": "stream",
          "name": "stdout",
          "text": [
            "Just one small positive thought\\ in the morning can change' your whole day.\n",
            "Love your family,\t work super hard, live your passion.\n"
          ]
        }
      ]
    },
    {
      "cell_type": "markdown",
      "source": [
        "********************************************************************************"
      ],
      "metadata": {
        "id": "2TgSYivSxxOd"
      }
    },
    {
      "cell_type": "markdown",
      "source": [
        "**Write a program to wish someone Good after noon**"
      ],
      "metadata": {
        "id": "Oo6iwGhRx1zk"
      }
    },
    {
      "cell_type": "code",
      "source": [
        "name=input(\"Maam,please enter your name:\\n \")\n",
        "print(\"Good Afternoon\", name)"
      ],
      "metadata": {
        "id": "vtKLmwuOyFOu"
      },
      "execution_count": null,
      "outputs": []
    },
    {
      "cell_type": "markdown",
      "source": [
        "**Write a Program to fill a letter**"
      ],
      "metadata": {
        "id": "njUSMevmydgU"
      }
    },
    {
      "cell_type": "code",
      "source": [
        "letter='''Dear <Name>,\n",
        "You are selected for BRACU Admission Test!\n",
        "Date:<Date>\n",
        "Session:<session>'''\n",
        "name=input(\"Please enter your name\\n\")\n",
        "date=input(\"Enter date\\n\")\n",
        "Session=input(\"Enter Session\\n\")\n",
        "letter=letter.replace(\"<Name>\", name)\n",
        "letter=letter.replace(\"<Date>\", date)\n",
        "letter=letter.replace(\"<session>\", Session)\n",
        "print(letter)"
      ],
      "metadata": {
        "id": "9CXhODbIzKLM",
        "colab": {
          "base_uri": "https://localhost:8080/"
        },
        "outputId": "55c16733-5370-4cc0-e130-a94a4824df26"
      },
      "execution_count": null,
      "outputs": [
        {
          "output_type": "stream",
          "name": "stdout",
          "text": [
            "Please enter your name\n",
            "nashid\n",
            "Enter date\n",
            "20.10.2022\n",
            "Enter Session\n",
            "2022\n",
            "Dear nashid,\n",
            "You are selected for BRACU Admission Test!\n",
            "Date:20.10.2022\n",
            "Session:2022\n"
          ]
        }
      ]
    },
    {
      "cell_type": "markdown",
      "source": [
        "**Write A program to detect double spaces in a string**"
      ],
      "metadata": {
        "id": "d12sAvKZ2Vyz"
      }
    },
    {
      "cell_type": "code",
      "source": [
        "st=\"This is a program to detect double  spaces\"\n",
        "doublespaces=st.find(\"  \")\n",
        "print(doublespaces)"
      ],
      "metadata": {
        "colab": {
          "base_uri": "https://localhost:8080/"
        },
        "id": "Ju0mLXKG2aGc",
        "outputId": "4842066e-d7b0-4b5e-9719-4d3a17b9add4"
      },
      "execution_count": null,
      "outputs": [
        {
          "output_type": "stream",
          "name": "stdout",
          "text": [
            "34\n"
          ]
        }
      ]
    },
    {
      "cell_type": "markdown",
      "source": [
        "**Write A program to replace double spaces with single space in a string**"
      ],
      "metadata": {
        "id": "zHhJdLAp4sIs"
      }
    },
    {
      "cell_type": "code",
      "source": [
        "st=\"This is a program to detect double  spaces\"\n",
        "doublespaces=st.replace(\"  \",\" \")\n",
        "print(doublespaces)"
      ],
      "metadata": {
        "colab": {
          "base_uri": "https://localhost:8080/"
        },
        "id": "8FDbc6S64wOL",
        "outputId": "87733235-6a71-4ba0-a066-3838566c4247"
      },
      "execution_count": null,
      "outputs": [
        {
          "output_type": "stream",
          "name": "stdout",
          "text": [
            "This is a program to detect double spaces\n"
          ]
        }
      ]
    },
    {
      "cell_type": "markdown",
      "source": [
        "**Write a Program to format  aletter using escape sequence character**"
      ],
      "metadata": {
        "id": "fZ-KLc_p5J07"
      }
    },
    {
      "cell_type": "code",
      "source": [
        "letter=\"Hello this is Mastermind. Hope to see you all in the next game. Arigato\"\n",
        "formatted_letter=\"Hello\\t this is Mastermind.\\n Hope to see you all in the next game.\\n Arigato\\n\"\n",
        "print(letter)\n",
        "print(formatted_letter)"
      ],
      "metadata": {
        "colab": {
          "base_uri": "https://localhost:8080/"
        },
        "id": "r6K839035O8U",
        "outputId": "296b7bba-eab2-45fc-ebce-b0492256209e"
      },
      "execution_count": null,
      "outputs": [
        {
          "output_type": "stream",
          "name": "stdout",
          "text": [
            "Hello this is Mastermind. Hope to see you all in the next game. Arigato\n",
            "Hello\t this is Mastermind.\n",
            " Hope to see you all in the next game.\n",
            " Arigato\n",
            "\n"
          ]
        }
      ]
    },
    {
      "cell_type": "markdown",
      "source": [
        "================================================================================"
      ],
      "metadata": {
        "id": "smDv4EbcwCEZ"
      }
    },
    {
      "cell_type": "markdown",
      "source": [
        "***List Sorting\\***"
      ],
      "metadata": {
        "id": "vRgXfUL-wGjZ"
      }
    },
    {
      "cell_type": "code",
      "source": [
        "l1=[1,8,4,9,2,3]\n",
        "l1.sort()\n",
        "print(l1)"
      ],
      "metadata": {
        "colab": {
          "base_uri": "https://localhost:8080/"
        },
        "id": "JGvRMxiewKKv",
        "outputId": "e86cbcf8-b57b-4bca-c3c4-e7ad32bf20ad"
      },
      "execution_count": null,
      "outputs": [
        {
          "output_type": "stream",
          "name": "stdout",
          "text": [
            "[1, 2, 3, 4, 8, 9]\n"
          ]
        }
      ]
    },
    {
      "cell_type": "markdown",
      "source": [
        "**List Reverse(reverse the list)**"
      ],
      "metadata": {
        "id": "OtVYvMZIwce5"
      }
    },
    {
      "cell_type": "code",
      "source": [
        "l1=[1,8,4,9,2,3]\n",
        "l1.reverse()\n",
        "print(l1)"
      ],
      "metadata": {
        "colab": {
          "base_uri": "https://localhost:8080/"
        },
        "id": "srDat0H6we43",
        "outputId": "f20023b6-1d2c-4537-8152-c202cb7eabc7"
      },
      "execution_count": null,
      "outputs": [
        {
          "output_type": "stream",
          "name": "stdout",
          "text": [
            "[3, 2, 9, 4, 8, 1]\n"
          ]
        }
      ]
    },
    {
      "cell_type": "markdown",
      "source": [
        "**Append(addds at the end of the list)****************"
      ],
      "metadata": {
        "id": "hDyuJKISwlfX"
      }
    },
    {
      "cell_type": "code",
      "source": [
        "l1=[1,8,4,9,2,3]\n",
        "l1.append(85)\n",
        "l1.append(45)\n",
        "print(l1)"
      ],
      "metadata": {
        "colab": {
          "base_uri": "https://localhost:8080/"
        },
        "id": "riNz-2Avwrj_",
        "outputId": "bd01a3f7-37aa-461c-f26f-074efe244305"
      },
      "execution_count": null,
      "outputs": [
        {
          "output_type": "stream",
          "name": "stdout",
          "text": [
            "[1, 8, 4, 9, 2, 3, 85, 45]\n"
          ]
        }
      ]
    },
    {
      "cell_type": "markdown",
      "source": [
        "**insert(adds with the position)**"
      ],
      "metadata": {
        "id": "PmQVh79IxCyo"
      }
    },
    {
      "cell_type": "code",
      "source": [
        "l1=[1,8,4,9,2,3]\n",
        "l1.insert(0,85)\n",
        "l1.insert(3,45)\n",
        "print(l1)"
      ],
      "metadata": {
        "colab": {
          "base_uri": "https://localhost:8080/"
        },
        "id": "_vVGaf8bxGq4",
        "outputId": "419fa5ff-68e9-4570-d544-115fd5c8c805"
      },
      "execution_count": null,
      "outputs": [
        {
          "output_type": "stream",
          "name": "stdout",
          "text": [
            "[85, 1, 8, 45, 4, 9, 2, 3]\n"
          ]
        }
      ]
    },
    {
      "cell_type": "markdown",
      "source": [
        "**Pop(removes the element at your mentioned index)**"
      ],
      "metadata": {
        "id": "zHtatu8Ixe7x"
      }
    },
    {
      "cell_type": "code",
      "source": [
        "#pop function use korle kintu index(posiiton) dite hobe\n",
        "l1=[1,8,4,9,2,3]\n",
        "l1.pop() #faka rakle last er ta remove hobe\n",
        "l1.pop(2) #2 np. inex e jeita sheita remobe korbe\n",
        "print(l1)"
      ],
      "metadata": {
        "colab": {
          "base_uri": "https://localhost:8080/"
        },
        "id": "CNo-0Slnxmx_",
        "outputId": "f91aa6c2-2b22-43f4-de90-9cf09cf78690"
      },
      "execution_count": null,
      "outputs": [
        {
          "output_type": "stream",
          "name": "stdout",
          "text": [
            "[1, 8, 9, 2]\n"
          ]
        }
      ]
    },
    {
      "cell_type": "markdown",
      "source": [
        "**Remove(removes the element)**"
      ],
      "metadata": {
        "id": "hWjz3mXux0b2"
      }
    },
    {
      "cell_type": "code",
      "source": [
        "l1=[1,8,4,9,2,3]\n",
        "l1.remove(9)\n",
        "print(l1)"
      ],
      "metadata": {
        "colab": {
          "base_uri": "https://localhost:8080/"
        },
        "id": "3FfzEKT-x5QZ",
        "outputId": "d4643c37-0b19-40ef-8a01-6c2a7f0b1250"
      },
      "execution_count": null,
      "outputs": [
        {
          "output_type": "stream",
          "name": "stdout",
          "text": [
            "[1, 8, 4, 2, 3]\n"
          ]
        }
      ]
    },
    {
      "cell_type": "markdown",
      "source": [
        "================================================================================"
      ],
      "metadata": {
        "id": "PBK-lhuQyONv"
      }
    },
    {
      "cell_type": "markdown",
      "source": [
        "**Tuple**(you cannot update the values of tuple) A tuple is an immutable data type in python"
      ],
      "metadata": {
        "id": "dpAlAuJayQin"
      }
    },
    {
      "cell_type": "code",
      "source": [
        "t=(0,1,2,3,5)\n",
        "print(t[0])\n",
        "t[0]!=34 #cannot change the value\n",
        "\n",
        "t=()\n",
        "t1=(1) #wrong way to declare a tuple with single element\n",
        "\n",
        "t2=(1,)  #wrong way to declare a tuple with single element\n",
        "print(t) \n",
        "print(t1)\n",
        "print(t2)\n",
        "t=(0,1,2,3,5)\n",
        "print(t)"
      ],
      "metadata": {
        "colab": {
          "base_uri": "https://localhost:8080/"
        },
        "id": "4vaUTSfgyYkI",
        "outputId": "92d16906-1649-4062-f56b-442d08ff6ee4"
      },
      "execution_count": null,
      "outputs": [
        {
          "output_type": "stream",
          "name": "stdout",
          "text": [
            "0\n",
            "()\n",
            "1\n",
            "(1,)\n",
            "(0, 1, 2, 3, 5)\n"
          ]
        }
      ]
    },
    {
      "cell_type": "markdown",
      "source": [
        "**Tuple.count(counts)**"
      ],
      "metadata": {
        "id": "fpgKpXE70BAn"
      }
    },
    {
      "cell_type": "code",
      "source": [
        "t=(0,1,2,3,1,1,5)\n",
        "print(t.count(1))"
      ],
      "metadata": {
        "colab": {
          "base_uri": "https://localhost:8080/"
        },
        "id": "uIDf3z4O0EdR",
        "outputId": "6467bf0d-e9bb-4b2d-c0d3-c14484880341"
      },
      "execution_count": null,
      "outputs": [
        {
          "output_type": "stream",
          "name": "stdout",
          "text": [
            "3\n"
          ]
        }
      ]
    },
    {
      "cell_type": "markdown",
      "source": [
        "**Tuple.index**"
      ],
      "metadata": {
        "id": "wtkT9Zuv0M1m"
      }
    },
    {
      "cell_type": "code",
      "source": [
        "t=(0,1,2,3,1,1,5)\n",
        "print(t.index(5))"
      ],
      "metadata": {
        "colab": {
          "base_uri": "https://localhost:8080/"
        },
        "id": "lWVyaG1b0Pg_",
        "outputId": "6d8cadaa-e521-4071-bd56-3e7bb3862595"
      },
      "execution_count": null,
      "outputs": [
        {
          "output_type": "stream",
          "name": "stdout",
          "text": [
            "6\n"
          ]
        }
      ]
    },
    {
      "cell_type": "markdown",
      "source": [
        "***Practise Problem of Lists and Tuple***"
      ],
      "metadata": {
        "id": "QO7Ch3xb05nS"
      }
    },
    {
      "cell_type": "markdown",
      "source": [
        "**1. Write a program to store seven fruits in a list entered by the user**"
      ],
      "metadata": {
        "id": "NnDyMvA709qO"
      }
    },
    {
      "cell_type": "code",
      "source": [
        "f1=input(\"Sir,please enter first fruit you would like to have: \")\n",
        "f2=input(\"Sir,please enter second fruit you would like to have: \")\n",
        "f3=input(\"Sir,please enter third fruit you would like to have: \")\n",
        "f4=input(\"Sir,please enter fourth fruit you would like to have: \")\n",
        "f5=input(\"Sir,please enter fifth fruit you would like to have: \")\n",
        "f6=input(\"Sir,please enter sixth fruit you would like to have: \")\n",
        "f7=input(\"Sir,please enter seventh fruit you would like to have: \")\n",
        "my_fruit_list=[f1,f2,f3,f4,f5,f6,f7]\n",
        "print(my_fruit_list)\n"
      ],
      "metadata": {
        "colab": {
          "base_uri": "https://localhost:8080/"
        },
        "id": "RFBdtkHX1RfI",
        "outputId": "dd6ca721-eeb7-48c8-c922-43ca4918ca70"
      },
      "execution_count": null,
      "outputs": [
        {
          "output_type": "stream",
          "name": "stdout",
          "text": [
            "Sir,please enter first fruit you would like to have: g\n",
            "Sir,please enter second fruit you would like to have: h\n",
            "Sir,please enter third fruit you would like to have: k\n",
            "Sir,please enter fourth fruit you would like to have: h\n",
            "Sir,please enter fifth fruit you would like to have: f\n",
            "Sir,please enter sixth fruit you would like to have: f\n",
            "Sir,please enter seventh fruit you would like to have: t\n",
            "['g', 'h', 'k', 'h', 'f', 'f', 't']\n"
          ]
        }
      ]
    },
    {
      "cell_type": "markdown",
      "source": [
        "**2.Write a program to accept marks of 6 students and arrange them in a sorted manner**"
      ],
      "metadata": {
        "id": "OXVIJ6ui3Zln"
      }
    },
    {
      "cell_type": "code",
      "source": [
        "s1=int(input(\"Please enter your marks: \"))\n",
        "s2=int(input(\"Please enter your marks: \"))\n",
        "s3=int(input(\"Please enter your marks: \"))\n",
        "s4=int(input(\"Please enter your marks: \"))\n",
        "s5=int(input(\"Please enter your marks: \"))\n",
        "s6=int(input(\"Please enter your marks: \"))\n",
        "marks_In_Ascending_order=[s1,s2,s3,s4,s5,s6]\n",
        "marks_In_Ascending_order.sort()\n",
        "print(marks_In_Ascending_order)\n",
        "\n"
      ],
      "metadata": {
        "colab": {
          "base_uri": "https://localhost:8080/"
        },
        "id": "cF2PZVrA3etY",
        "outputId": "f34ed190-e19c-4689-cf19-8ea718cac30e"
      },
      "execution_count": null,
      "outputs": [
        {
          "output_type": "stream",
          "name": "stdout",
          "text": [
            "Please enter your marks: 56\n",
            "Please enter your marks: 99\n",
            "Please enter your marks: -5\n",
            "Please enter your marks: 90\n",
            "Please enter your marks: 85\n",
            "Please enter your marks: 20\n",
            "[-5, 20, 56, 85, 90, 99]\n"
          ]
        }
      ]
    },
    {
      "cell_type": "markdown",
      "source": [
        "**3.Tuple change test**"
      ],
      "metadata": {
        "id": "km8MNdt24qzX"
      }
    },
    {
      "cell_type": "code",
      "source": [
        "a=(1,2,3,4)\n",
        "a[0]=5 #error dekhabe"
      ],
      "metadata": {
        "id": "1KuWYeiv3oKA"
      },
      "execution_count": null,
      "outputs": []
    },
    {
      "cell_type": "markdown",
      "source": [
        "**4.Write a program to sum a list of 4 numbers**"
      ],
      "metadata": {
        "id": "Snm5T-ey5DaE"
      }
    },
    {
      "cell_type": "code",
      "source": [
        "a=[0,1,2,3]\n",
        "print(a[0]+a[1]+a[2]+a[3]) #method:1\n",
        "print(sum(a))              #menthod:2"
      ],
      "metadata": {
        "colab": {
          "base_uri": "https://localhost:8080/"
        },
        "id": "lPJO7rb25HD3",
        "outputId": "483682cc-0517-432b-cc75-a31d9e928c5d"
      },
      "execution_count": null,
      "outputs": [
        {
          "output_type": "stream",
          "name": "stdout",
          "text": [
            "6\n",
            "6\n"
          ]
        }
      ]
    },
    {
      "cell_type": "markdown",
      "source": [
        "**5.Write a program to count the number of zeros in Litton Das innings**"
      ],
      "metadata": {
        "id": "F4SoPUax5XvA"
      }
    },
    {
      "cell_type": "code",
      "source": [
        "a=[22,98,0,55,0,5,4,0,69,50,0,15]\n",
        "print(a.count(0))"
      ],
      "metadata": {
        "colab": {
          "base_uri": "https://localhost:8080/"
        },
        "id": "q9eknAnU5joY",
        "outputId": "7d2aef7d-fdec-4941-b574-e9b99b837502"
      },
      "execution_count": null,
      "outputs": [
        {
          "output_type": "stream",
          "name": "stdout",
          "text": [
            "4\n"
          ]
        }
      ]
    },
    {
      "cell_type": "markdown",
      "source": [
        "**++++++++++++++++++++++++++++++++++++++++++++++++++++++++++++++++++++++++++++++++**"
      ],
      "metadata": {
        "id": "JvyqtSKd6hWA"
      }
    },
    {
      "cell_type": "markdown",
      "source": [
        "**Dictionary(details)** A dicitonary is a collection of key value pairs"
      ],
      "metadata": {
        "id": "4yoMDhTy6ovo"
      }
    },
    {
      "cell_type": "markdown",
      "source": [
        "my_dict={\"key\":\"value\"} #dicitonary syntax"
      ],
      "metadata": {
        "id": "8650-PBX6sDR"
      }
    },
    {
      "cell_type": "code",
      "source": [
        "my_dict={\"student id 22201458\":\"Iftikharul islam Ifti\", \"Student Id 2201459\": \"harry potter\"}\n",
        "print(my_dict['student id 22201458'])\n",
        "print(my_dict[\"Student Id 22201459\"])\n"
      ],
      "metadata": {
        "colab": {
          "base_uri": "https://localhost:8080/"
        },
        "id": "BekRlpZ067r5",
        "outputId": "6646a79b-50b0-42b1-d949-53f0c6ea2fc7"
      },
      "execution_count": null,
      "outputs": [
        {
          "output_type": "stream",
          "name": "stdout",
          "text": [
            "Iftikharul islam Ifti\n",
            "harry potter\n"
          ]
        }
      ]
    },
    {
      "cell_type": "code",
      "source": [
        "#How to make a nested dicitonary\n",
        "my_dict={ \"Marks\" :[15,20,24],\n",
        "        \"MJB\":\"CSE110\",\n",
        "        \"BNR\" :\"ENG091\",\n",
        "         \"another_dict\":{\"Son\":\"Player\"}\n",
        "\n",
        "         }\n",
        "print(my_dict[\"another_dict\"][\"Son\"])  #THis is called nested dictionary(akta dicitonary er vitore arekta dciitonary)\n"
      ],
      "metadata": {
        "colab": {
          "base_uri": "https://localhost:8080/"
        },
        "id": "TKywTLV49kR4",
        "outputId": "dfad0d7d-0cc1-46da-9ba3-7060d1a92a00"
      },
      "execution_count": null,
      "outputs": [
        {
          "output_type": "stream",
          "name": "stdout",
          "text": [
            "Player\n",
            "[45, 78]\n"
          ]
        }
      ]
    },
    {
      "cell_type": "markdown",
      "source": [
        "Properties of dictionary:\n",
        "unordered ,\n",
        "mutable(can be changed)"
      ],
      "metadata": {
        "id": "FZJgsYQ__GV4"
      }
    },
    {
      "cell_type": "code",
      "source": [
        "#Dicitonary is \n",
        "my_dict={\"Marks\":[1,2,3]}\n",
        "my_dict[\"Marks\"]=[45,78]\n",
        "print(my_dict[\"Marks\"])"
      ],
      "metadata": {
        "colab": {
          "base_uri": "https://localhost:8080/"
        },
        "id": "WQPOwQV8_l6N",
        "outputId": "e3d47756-95f7-465a-d689-ae68d2eb442a"
      },
      "execution_count": null,
      "outputs": [
        {
          "output_type": "stream",
          "name": "stdout",
          "text": [
            "[45, 78]\n"
          ]
        }
      ]
    },
    {
      "cell_type": "markdown",
      "source": [
        "# **Dictionary methods**"
      ],
      "metadata": {
        "id": "Tkqwp-4JAMZZ"
      }
    },
    {
      "cell_type": "code",
      "source": [
        "my_dict={ \"Marks\" :[15,20,24],\n",
        "        \"MJB\":\"CSE110\",\n",
        "        \"BNR\" :\"ENG091\",\n",
        "         \"another_dict\":{\"Son\":\"Player\"},\n",
        "          1:2 }\n",
        "\n",
        "print(my_dict.keys())\n",
        "print(type(my_dict.keys()))\n",
        "\n",
        "#Can you convert this into list? sure type type  \n",
        "#printing the keys\n",
        "\n",
        "print(list(my_dict.keys()))\n",
        "print(type(list(my_dict.keys())))\n",
        "\n",
        "#printing the values\n",
        "print(list(my_dict.values()))\n",
        "print(type(list(my_dict.values())))\n",
        "\n",
        "#printing all the items\n",
        "print(my_dict.items())\n",
        "\n",
        "#updating the dicitonary\n",
        "\n",
        "update_dict={\"Love\": \"Heaven\",\n",
        "             \"Armeen\": \"Friend\",\n",
        "             \"Nafizz\": \"Enemy\",\n",
        "             \"Sugar\": \"daddy\"\n",
        "\n",
        "             }\n",
        "my_dict.update(update_dict)\n",
        "print(my_dict)"
      ],
      "metadata": {
        "colab": {
          "base_uri": "https://localhost:8080/"
        },
        "id": "1FQKBc34AORI",
        "outputId": "24770d4f-d3e0-4df3-bb69-f4752fc60cbc"
      },
      "execution_count": null,
      "outputs": [
        {
          "output_type": "stream",
          "name": "stdout",
          "text": [
            "dict_keys(['Marks', 'MJB', 'BNR', 'another_dict', 1])\n",
            "<class 'dict_keys'>\n",
            "['Marks', 'MJB', 'BNR', 'another_dict', 1]\n",
            "<class 'list'>\n",
            "[[15, 20, 24], 'CSE110', 'ENG091', {'Son': 'Player'}, 2]\n",
            "<class 'list'>\n",
            "dict_items([('Marks', [15, 20, 24]), ('MJB', 'CSE110'), ('BNR', 'ENG091'), ('another_dict', {'Son': 'Player'}), (1, 2)])\n",
            "{'Marks': [15, 20, 24], 'MJB': 'CSE110', 'BNR': 'ENG091', 'another_dict': {'Son': 'Player'}, 1: 2, 'Love': 'Heaven', 'Armeen': 'Friend', 'Nafizz': 'Enemy', 'Sugar': 'daddy'}\n"
          ]
        }
      ]
    },
    {
      "cell_type": "markdown",
      "source": [
        "Why use .get function in dicitonary? .get is a function to get the value of something in dicitonary\n",
        "**Difference between .get and [ ] syntax in dicitonary**"
      ],
      "metadata": {
        "id": "0pcuUeRYEqQh"
      }
    },
    {
      "cell_type": "code",
      "source": [
        "dict={ \"Marks\" :[15,20,24],\n",
        "        \"MJB\":\"CSE110\",\n",
        "        \"BNR\" :\"ENG091\",\n",
        "         \"another_dict\":{\"Son\":\"Player\"},\n",
        "          1:2 }\n",
        "print(dict.get(\"BNR\"))\n",
        "print(dict[\"BNR\"])\n",
        "\n",
        "#but when we use a wrong value it should print none. but if we dont use .get function it wont print none!\n",
        "print(dict.get(\"BNR22\"))\n",
        "print(dict[\"BNR22\"]) #it will throw an error"
      ],
      "metadata": {
        "id": "MMuESaYgEy75"
      },
      "execution_count": null,
      "outputs": []
    },
    {
      "cell_type": "markdown",
      "source": [
        "!!!!!!!!!!!!!!!!!!!!!!!!!!!!!!!!!!!!!!!!!!!!!!!!!!!!!!!!!!!!!!!!!!!!!!!!!!!!!!!!"
      ],
      "metadata": {
        "id": "R2JuXGzaGCOx"
      }
    },
    {
      "cell_type": "markdown",
      "source": [
        "## ***SEts in python*** (A set is a collection of non repetitive elements)\n",
        "\n",
        "\n"
      ],
      "metadata": {
        "id": "RbtNl8v0GFkJ"
      }
    },
    {
      "cell_type": "code",
      "source": [
        "a={ 1,3,3,1,4,5,6}\n",
        "print(type(a))\n",
        "print(a)"
      ],
      "metadata": {
        "colab": {
          "base_uri": "https://localhost:8080/"
        },
        "id": "W0t1Nu_mGT2V",
        "outputId": "83d028d9-0aa8-4a19-a22c-29c2d4ad9fd1"
      },
      "execution_count": null,
      "outputs": [
        {
          "output_type": "stream",
          "name": "stdout",
          "text": [
            "<class 'set'>\n",
            "{1, 3, 4, 5, 6}\n"
          ]
        }
      ]
    },
    {
      "cell_type": "markdown",
      "source": [
        "**Create an empty set**"
      ],
      "metadata": {
        "id": "n-GXZkWJGgtA"
      }
    },
    {
      "cell_type": "code",
      "source": [
        "a=set()\n",
        "print(type(a))"
      ],
      "metadata": {
        "colab": {
          "base_uri": "https://localhost:8080/"
        },
        "id": "qqwGWVf5Gj8A",
        "outputId": "77c8bec3-082b-44c0-9fd4-8de537d9da39"
      },
      "execution_count": null,
      "outputs": [
        {
          "output_type": "stream",
          "name": "stdout",
          "text": [
            "<class 'set'>\n"
          ]
        }
      ]
    },
    {
      "cell_type": "markdown",
      "source": [
        "**ADd to an empty set**"
      ],
      "metadata": {
        "id": "PrqSLIEMGsWp"
      }
    },
    {
      "cell_type": "code",
      "source": [
        "a=set()\n",
        "print(type(a))\n",
        "a.add(2)\n",
        "a.add(5)\n",
        "a.add(2)\n",
        "a.add(2)\n",
        "print(a)"
      ],
      "metadata": {
        "colab": {
          "base_uri": "https://localhost:8080/"
        },
        "id": "3rXwVKsCGv0f",
        "outputId": "6e9b1d7e-1cb5-4db7-f1d7-1dc5615c8d64"
      },
      "execution_count": null,
      "outputs": [
        {
          "output_type": "stream",
          "name": "stdout",
          "text": [
            "<class 'set'>\n",
            "{2, 5}\n"
          ]
        }
      ]
    },
    {
      "cell_type": "markdown",
      "source": [
        "Lists cannot be added in sets. tuple can be added...basically dataypes which are changable cannot be added into sets. dicitonary cannot be added"
      ],
      "metadata": {
        "id": "pqHBIKfYIC6S"
      }
    },
    {
      "cell_type": "code",
      "source": [
        "a=set()\n",
        "print(type(a))\n",
        "a.add(2)\n",
        "a.add(5)\n",
        "a.add((2,6,8))\n",
        "print(a)"
      ],
      "metadata": {
        "colab": {
          "base_uri": "https://localhost:8080/"
        },
        "id": "QRrH08eEIGgx",
        "outputId": "05ed1942-2181-434b-c9ed-d8507d23766e"
      },
      "execution_count": null,
      "outputs": [
        {
          "output_type": "stream",
          "name": "stdout",
          "text": [
            "<class 'set'>\n",
            "{2, (2, 6, 8), 5}\n"
          ]
        }
      ]
    },
    {
      "cell_type": "markdown",
      "source": [
        "**Properties of Sets: **bold text**\n",
        "1.  Unordered\n",
        "2.  Unindexed\n",
        "3.  No way to change items in sets\n",
        "4.  Sets cannot contain duplicate values.\n",
        "\n",
        "\n",
        "\n"
      ],
      "metadata": {
        "id": "-lut_DFFJAVJ"
      }
    },
    {
      "cell_type": "markdown",
      "source": [
        "# Operations on SET"
      ],
      "metadata": {
        "id": "9N9Pb-BSLoW5"
      }
    },
    {
      "cell_type": "markdown",
      "source": [
        "***Length of the set***"
      ],
      "metadata": {
        "id": "qhv_PzdZLuOW"
      }
    },
    {
      "cell_type": "code",
      "source": [
        "a={ 1,3,3,1,4,5,6}\n",
        "print(len(a))"
      ],
      "metadata": {
        "colab": {
          "base_uri": "https://localhost:8080/"
        },
        "id": "Xx2QI43rLwqy",
        "outputId": "acc078e3-b8a6-4eb6-a4cf-81c80dedb803"
      },
      "execution_count": null,
      "outputs": [
        {
          "output_type": "stream",
          "name": "stdout",
          "text": [
            "5\n"
          ]
        }
      ]
    },
    {
      "cell_type": "markdown",
      "source": [
        "**Remove from the set**"
      ],
      "metadata": {
        "id": "LaLtst5ML8gT"
      }
    },
    {
      "cell_type": "code",
      "source": [
        "a={ 1,3,3,1,4,5,6}\n",
        "a.remove(5)\n",
        "#dont remove something that is not inside the set\n",
        "print(a)"
      ],
      "metadata": {
        "colab": {
          "base_uri": "https://localhost:8080/"
        },
        "id": "rrtiCZf3L-vq",
        "outputId": "ef121608-835e-428c-a145-5232bce3455c"
      },
      "execution_count": null,
      "outputs": [
        {
          "output_type": "stream",
          "name": "stdout",
          "text": [
            "{1, 3, 4, 6}\n"
          ]
        }
      ]
    },
    {
      "cell_type": "markdown",
      "source": [
        "**POP removes a random element and displays it**"
      ],
      "metadata": {
        "id": "thtDElbqMLrC"
      }
    },
    {
      "cell_type": "code",
      "source": [
        "a={ 1,3,3,1,4,5,6}\n",
        "print(a.pop())"
      ],
      "metadata": {
        "colab": {
          "base_uri": "https://localhost:8080/"
        },
        "id": "gheXA9XYMbtS",
        "outputId": "ba6eac48-1f70-4a4d-d0a9-f67bbae59474"
      },
      "execution_count": null,
      "outputs": [
        {
          "output_type": "stream",
          "name": "stdout",
          "text": [
            "1\n"
          ]
        }
      ]
    },
    {
      "cell_type": "markdown",
      "source": [
        "**CLEAR empties the set**"
      ],
      "metadata": {
        "id": "ATfLLaBUM39R"
      }
    },
    {
      "cell_type": "code",
      "source": [
        "a={ 1,3,3,1,4,5,6}\n",
        "print(a.clear())"
      ],
      "metadata": {
        "colab": {
          "base_uri": "https://localhost:8080/"
        },
        "id": "2gQK4drSM-u0",
        "outputId": "cd680e61-f722-4a85-8c49-5d064b01b0a1"
      },
      "execution_count": null,
      "outputs": [
        {
          "output_type": "stream",
          "name": "stdout",
          "text": [
            "None\n"
          ]
        }
      ]
    },
    {
      "cell_type": "markdown",
      "source": [
        "**Union of two sets**"
      ],
      "metadata": {
        "id": "d7mT_i0aOAB4"
      }
    },
    {
      "cell_type": "code",
      "source": [
        "a={ 1,3,3,1,4,5,6}\n",
        "print(a.union({1,9,7,6,5}))"
      ],
      "metadata": {
        "colab": {
          "base_uri": "https://localhost:8080/"
        },
        "id": "X8P3cDfNOAj9",
        "outputId": "3533dfe6-0526-4301-fbc9-3450c5c8c189"
      },
      "execution_count": null,
      "outputs": [
        {
          "output_type": "stream",
          "name": "stdout",
          "text": [
            "{1, 5, 6}\n"
          ]
        }
      ]
    },
    {
      "cell_type": "markdown",
      "source": [
        "**Intersection of Two sets**"
      ],
      "metadata": {
        "id": "Joj_NWzdOV-q"
      }
    },
    {
      "cell_type": "code",
      "source": [
        "a={ 1,3,3,1,4,5,6}\n",
        "print(a.intersection({1,9,7,6,5}))"
      ],
      "metadata": {
        "colab": {
          "base_uri": "https://localhost:8080/"
        },
        "id": "-RIihQMAOYVy",
        "outputId": "d3df6d03-e1b2-4496-e9a2-6a33b4a75982"
      },
      "execution_count": null,
      "outputs": [
        {
          "output_type": "stream",
          "name": "stdout",
          "text": [
            "{1, 5, 6}\n"
          ]
        }
      ]
    },
    {
      "cell_type": "markdown",
      "source": [
        "^^^^^^^^^^^^^^^^^^^^^^^^^^^^^^^^^^^^^^^^^^^^^^^^^^^^^^^^^^^^^^^^^^^^^^^^^^^^^^^^"
      ],
      "metadata": {
        "id": "9vB_nkMyRuhc"
      }
    },
    {
      "cell_type": "markdown",
      "source": [
        "## Practise Problems(Sets,Dicitonary)"
      ],
      "metadata": {
        "id": "jhb-yuDPQZ-q"
      }
    },
    {
      "cell_type": "markdown",
      "source": [
        "**1. Write a Program to create a dicitonary of Bangla Words with value as their English translaiton. Provide user with an option to look it up.**"
      ],
      "metadata": {
        "id": "IKcKXcvUQZ9G"
      }
    },
    {
      "cell_type": "code",
      "source": [
        "my_dict={ \"achieve\":\"অর্জন\",\n",
        "          \"accomplish\": \"সম্পন্ন\",\n",
        "          \"ally\":   \"মিত্র\",\n",
        "          \"appreciate\": \"প্রশংসা\",\n",
        "          \"approval\": \"অনুমোদন\" }\n",
        "print(\"Options are\", my_dict.keys())\n",
        "\n",
        "a=input(\"sir,please enter your word:\\n\")\n",
        "print(\"The meaning of your word is \",my_dict.get(a))"
      ],
      "metadata": {
        "colab": {
          "base_uri": "https://localhost:8080/"
        },
        "id": "pLi0exrBQik9",
        "outputId": "68482f48-afee-44c0-cae2-168c75339965"
      },
      "execution_count": null,
      "outputs": [
        {
          "output_type": "stream",
          "name": "stdout",
          "text": [
            "Options are dict_keys(['achieve', 'accomplish', 'ally', 'appreciate', 'approval'])\n",
            "sir,please enter your word:\n",
            "ally\n",
            "The meaning of your word is  মিত্র\n"
          ]
        }
      ]
    },
    {
      "cell_type": "markdown",
      "source": [
        "**2.Write a program to print all the unique numbers from the user. take 8 numbers from the user**"
      ],
      "metadata": {
        "id": "d3RJ15PLQozk"
      }
    },
    {
      "cell_type": "code",
      "source": [
        "\n",
        "num_1=int(input(\"Enter number 1\\n\"))\n",
        "num_2=int(input(\"Enter number 2\\n\"))\n",
        "num_3=int(input(\"Enter number 3\\n\"))\n",
        "num_4=int(input(\"Enter number 4\\n\"))\n",
        "num_5=int(input(\"Enter number 5\\n\"))\n",
        "num_6=int(input(\"Enter number 6\\n\"))\n",
        "num_7=int(input(\"Enter number 7\\n\"))\n",
        "num_8=int(input(\"Enter number 8\\n\"))\n",
        "sets={num_1,num_2,num_3,num_4,num_5,num_6,num_7,num_8}\n",
        "print(sets)"
      ],
      "metadata": {
        "id": "ZV3mfpcQQsii"
      },
      "execution_count": null,
      "outputs": []
    },
    {
      "cell_type": "markdown",
      "source": [
        "**03. Can we have a set with 18(int) and \"18\"(str) as values in it: "
      ],
      "metadata": {
        "id": "wdW3erixpCKG"
      }
    },
    {
      "cell_type": "code",
      "source": [
        "s={20,20.0,20.001}\n",
        "print(len(s))\n",
        "# output 3 ashar kotha kintu set er vitore 20 and 20.1 ke same consider korbe "
      ],
      "metadata": {
        "colab": {
          "base_uri": "https://localhost:8080/"
        },
        "id": "MVwJF5JSoy13",
        "outputId": "9c8dfc4d-780d-4521-fdd4-bb00888af7ad"
      },
      "execution_count": null,
      "outputs": [
        {
          "output_type": "stream",
          "name": "stdout",
          "text": [
            "2\n"
          ]
        }
      ]
    },
    {
      "cell_type": "markdown",
      "source": [
        "**04.s={}**\n",
        "**what will be the type of s? **"
      ],
      "metadata": {
        "id": "lpecULkBpL1A"
      }
    },
    {
      "cell_type": "code",
      "source": [
        "s={}\n",
        "print(type(s))\n",
        "s=set()\n",
        "print(type(s))"
      ],
      "metadata": {
        "colab": {
          "base_uri": "https://localhost:8080/"
        },
        "id": "NAVsp3_JqSPn",
        "outputId": "3af761d3-3602-44b0-a4e5-2fb9eb2c9c24"
      },
      "execution_count": null,
      "outputs": [
        {
          "output_type": "stream",
          "name": "stdout",
          "text": [
            "<class 'dict'>\n",
            "<class 'set'>\n"
          ]
        }
      ]
    },
    {
      "cell_type": "markdown",
      "source": [
        "**05. Create a empty dicitonary. Allow 4 freinds to enter their fav language as inputs and use keys at their names. ASsume that the names are unique.**\n",
        "\n"
      ],
      "metadata": {
        "id": "C9adm5RKqVw_"
      }
    },
    {
      "cell_type": "code",
      "source": [
        "favlang={}\n",
        "a=input(\"Enter your favourite language Pam\\n\")\n",
        "b=input(\"Enter your favourite language Jennie\\n\")\n",
        "c=input(\"Enter your favourite language Michael\\n\")\n",
        "d=input(\"Enter your favourite language Jim\\n\")\n",
        "favlang['Pam']=a\n",
        "favlang['Jennie']=b\n",
        "favlang['Michael']=c\n",
        "favlang['Jim']=d\n",
        "\n",
        "print(favlang)"
      ],
      "metadata": {
        "colab": {
          "base_uri": "https://localhost:8080/"
        },
        "id": "PRv9Dw1IqWXv",
        "outputId": "5bc3c15c-c0ac-482e-9b84-2af186c820f8"
      },
      "execution_count": null,
      "outputs": [
        {
          "output_type": "stream",
          "name": "stdout",
          "text": [
            "Enter your favourite language Pam\n",
            "k\n",
            "Enter your favourite language Jennie\n",
            "g\n",
            "Enter your favourite language Michael\n",
            "l\n",
            "Enter your favourite language Jim\n",
            "i\n",
            "{'Pam': 'k', 'Jennie': 'g', 'Michael': 'l', 'Jim': 'i'}\n"
          ]
        }
      ]
    },
    {
      "cell_type": "markdown",
      "source": [
        "++++++++++++++++++++++++++++++++++++++++++++++++++++++++++++++++++++++++++++++++"
      ],
      "metadata": {
        "id": "7RKkzDYzyjuu"
      }
    },
    {
      "cell_type": "markdown",
      "source": [
        "# **Conditonal statements**"
      ],
      "metadata": {
        "id": "iLKNappLynP2"
      }
    },
    {
      "cell_type": "markdown",
      "source": [
        "**Sometimes we want to play pubg on our phone if the day is Sunday.\n",
        "\n",
        "Sometimes we order Ice-cream online if the day is sunny.\n",
        "\n",
        "Sometimes we go hiking if our parents allow.\n",
        "\n",
        "All these are decisions that depend on the condition being met.\n",
        "\n",
        "In python programming too, we must be able to execute instructions on a condition(s) being met. This is what conditions are for!**"
      ],
      "metadata": {
        "id": "3se3HBHyQy4C"
      }
    },
    {
      "cell_type": "code",
      "source": [
        "#syntax\n",
        "'''\n",
        "if (condition1):\t\t// if condition 1 is true\n",
        "\tprint(“yes”)\n",
        "elif (condition2):\t\t// if condition 2 is true\n",
        "\tprint(“No”)\n",
        "else:\t\t\t              \t// otherwise\n",
        "\tprint(“May be”)\n",
        "\n",
        "'''"
      ],
      "metadata": {
        "colab": {
          "base_uri": "https://localhost:8080/",
          "height": 52
        },
        "id": "F4NiWaIgQ8ae",
        "outputId": "cfa35f44-c5d6-4a14-bd02-6b0e9473a1c8"
      },
      "execution_count": null,
      "outputs": [
        {
          "output_type": "execute_result",
          "data": {
            "text/plain": [
              "'\\nif (condition1):\\t\\t// if condition 1 is true\\n\\tprint(“yes”)\\nelif (condition2):\\t\\t// if condition 2 is true\\n\\tprint(“No”)\\nelse:\\t\\t\\t              \\t// otherwise\\n\\tprint(“May be”)\\n\\n'"
            ],
            "application/vnd.google.colaboratory.intrinsic+json": {
              "type": "string"
            }
          },
          "metadata": {},
          "execution_count": 3
        }
      ]
    },
    {
      "cell_type": "code",
      "source": [
        "a = 22\n",
        "if (a>9):\n",
        "  print(\"Greater\")\n",
        "else:\n",
        "  print(\"lesser\")"
      ],
      "metadata": {
        "colab": {
          "base_uri": "https://localhost:8080/"
        },
        "id": "Y4kKjNzWRADk",
        "outputId": "3ffb085d-2472-4131-f135-0fe3c7da6fa9"
      },
      "execution_count": null,
      "outputs": [
        {
          "output_type": "stream",
          "name": "stdout",
          "text": [
            "Greater\n"
          ]
        }
      ]
    },
    {
      "cell_type": "markdown",
      "source": [
        "and -> true if both operands are true else false\n",
        "\n",
        "or -> true if at least one operand is true else false\n",
        "\n",
        "not -> inverts true to false and false to true"
      ],
      "metadata": {
        "id": "fnPZBxB0RDzM"
      }
    },
    {
      "cell_type": "markdown",
      "source": [
        "**1. Python check whether a character is upper or lowercase alphabet**"
      ],
      "metadata": {
        "id": "I6prONnuUBKE"
      }
    },
    {
      "cell_type": "code",
      "source": [
        "ch = input(\"Enter any character : \")\n",
        "\n",
        "# Check for uppercase, lowercase             \n",
        "if ch.isupper() :         #Function isupper() can be used to check if the character \n",
        "                          # is Uppercase or not. It will return true if the character is Uppercase character.\n",
        "    print(\"\\n\" + ch, \"is UPPERCASE alphabet.\\n\")\n",
        "\n",
        "elif ch.islower() :\n",
        "    print(\"\\n\" + ch, \"is LOWERCASE alphabet.\\n\")\n",
        "\n",
        "else :\n",
        "    print(\"\\n\" + ch, \"is not an alphabet.\\n\")"
      ],
      "metadata": {
        "colab": {
          "base_uri": "https://localhost:8080/"
        },
        "id": "9CMxbc3kREsN",
        "outputId": "b0903113-0508-4634-92eb-5c3186da8e9a"
      },
      "execution_count": null,
      "outputs": [
        {
          "output_type": "stream",
          "name": "stdout",
          "text": [
            "Enter any character : L\n",
            "is UPPERCASE alphabet.\n",
            "\n"
          ]
        }
      ]
    },
    {
      "cell_type": "markdown",
      "source": [
        "**2.Python check whether a character is alphabet or not**"
      ],
      "metadata": {
        "id": "oaN8ONkfUEaK"
      }
    },
    {
      "cell_type": "code",
      "source": [
        "# Take character input from user\n",
        "ch = input(\"Enter any character : \")\n",
        "\n",
        "# Check for alphabet or not\n",
        "if ch.isalpha() :\n",
        "    print(\"\\n\" + ch, \"is A ALPHABET.\")\n",
        "else :\n",
        "    print(\"\\n\" + ch, \"is NOT A ALPHABET.\")"
      ],
      "metadata": {
        "colab": {
          "base_uri": "https://localhost:8080/"
        },
        "id": "yorZXJzCUj26",
        "outputId": "da419545-d730-4104-a04f-59d58fe15e46"
      },
      "execution_count": null,
      "outputs": [
        {
          "output_type": "stream",
          "name": "stdout",
          "text": [
            "Enter any character : *\n",
            "\n",
            "* is NOT A ALPHABET.\n"
          ]
        }
      ]
    },
    {
      "cell_type": "markdown",
      "source": [
        "**03.Python check whether a character is alphabet, digit or special character**"
      ],
      "metadata": {
        "id": "p8DC8ETEUxGa"
      }
    },
    {
      "cell_type": "code",
      "source": [
        "# Take character input from user\n",
        "ch = input(\"Enter any character : \")\n",
        "\n",
        "# Check for alphabet and digit.\n",
        "if ch[0].isalpha() :\n",
        "    print(\"\\n\" + ch[0], \"is A ALPHABET.\")\n",
        "elif ch[0].isdigit() :\n",
        "    print(\"\\n\" + ch[0], \"is A DIGIT.\")\n",
        "else :\n",
        "    print(\"\\n\" + ch[0], \"is A SPECIAL CHARACTER.\")"
      ],
      "metadata": {
        "id": "YANlmQbtVvHD"
      },
      "execution_count": null,
      "outputs": []
    },
    {
      "cell_type": "markdown",
      "source": [
        "**04.Python find largest number among four number using if statement**"
      ],
      "metadata": {
        "id": "daUkrZj3V0A6"
      }
    },
    {
      "cell_type": "code",
      "source": [
        "num1=int(input(\"Sir,please enter  number 1 \\n\"))\n",
        "num2=int(input(\"Sir,please enter  number 2 \\n\"))\n",
        "num3=int(input(\"Sir,please enter  number 3\\n\"))\n",
        "num4=int(input(\"Sir,please enter  number 4\\n\"))\n",
        "if (num1>num2) and (num1>num3) and (num1>num4):\n",
        "  print(num1,\" is the greatest number\\n\")\n",
        "elif(num2>num1) and (num2>num3) and (num2>num4):\n",
        "  print(num2,\" is the greatest number\\n\")\n",
        "elif (num3>num1) and (num3>num2) and (num3>num4):\n",
        "    print(num3,\" is the greatest number\\n\") \n",
        "elif(num1==num2) or    (num2==num3) or  (num1==num4) or (num1==num3)or  (num2==num4):\n",
        "  print(\"Multiple numbers are equal.\") \n",
        "else:\n",
        "    print(num4,\"is the greatest number\\n\")\n",
        "\n",
        "print(\"End\")  \n",
        "\n"
      ],
      "metadata": {
        "colab": {
          "base_uri": "https://localhost:8080/"
        },
        "id": "P6oni6P1WDfa",
        "outputId": "e3d04b19-ffb5-4cdb-a6fa-79529fe0336a"
      },
      "execution_count": null,
      "outputs": [
        {
          "name": "stdout",
          "output_type": "stream",
          "text": [
            "Sir,please enter  number 1 \n",
            "2\n"
          ]
        }
      ]
    },
    {
      "cell_type": "markdown",
      "source": [
        "***REcommended method is below one **bold text**"
      ],
      "metadata": {
        "id": "LUNReeLKbmfc"
      }
    },
    {
      "cell_type": "code",
      "source": [
        "num1=int(input(\"Sir,please enter  number 1 \\n\"))\n",
        "num2=int(input(\"Sir,please enter  number 2 \\n\"))\n",
        "num3=int(input(\"Sir,please enter  number 3\\n\"))\n",
        "num4=int(input(\"Sir,please enter  number 4\\n\"))\n",
        "if(num1>num4):\n",
        "  f1=num1\n",
        "else:\n",
        "  f1=num4\n",
        "if(num2>num3):\n",
        "  f2=num2\n",
        "else:\n",
        "  f2=num3\n",
        "if(f1>f2):\n",
        "  print(str(f1) + \"is greatest\\n\")\n",
        "else:\n",
        "    print(str(f2) + \"is greatest\\n\")  \n",
        "\n"
      ],
      "metadata": {
        "colab": {
          "base_uri": "https://localhost:8080/"
        },
        "id": "OhdHZst7Z1qF",
        "outputId": "ffe4ec89-59ae-4308-c45a-0c0ffd5c2849"
      },
      "execution_count": null,
      "outputs": [
        {
          "output_type": "stream",
          "name": "stdout",
          "text": [
            "Sir,please enter  number 1 \n",
            "55\n",
            "Sir,please enter  number 2 \n",
            "55\n",
            "Sir,please enter  number 3\n",
            "55\n",
            "Sir,please enter  number 4\n",
            "55\n",
            "55is greatest\n",
            "\n"
          ]
        }
      ]
    },
    {
      "cell_type": "markdown",
      "source": [
        "**05.Python program to check whether a year **is leap year or not"
      ],
      "metadata": {
        "id": "Rc2r5RvnbyuB"
      }
    },
    {
      "cell_type": "code",
      "source": [
        "# Take year from user\n",
        "year = int(input(\"Enter a year : \"))\n",
        "\n",
        "# Check for leap year\n",
        "if year % 4 == 0 :\n",
        "\n",
        "    if (year % 100 == 0) :\n",
        "\n",
        "        if (year % 400 == 0) :\n",
        "            print(\"\\n\" + str(year), \"is a leap year.\")\n",
        "        else :\n",
        "            print(\"\\n\" + str(year), \"is not a leap year.\")\n",
        "\n",
        "    else :\n",
        "        print(\"\\n\" + str(year), \"is a leap year.\")\n",
        "\n",
        "else :\n",
        "    print(\"\\n\" + str(year), \"is not a leap year.\")\n"
      ],
      "metadata": {
        "id": "AfEpCZKAb4Kh"
      },
      "execution_count": null,
      "outputs": []
    },
    {
      "cell_type": "markdown",
      "source": [
        "06.Python program to check whether number is even or odd"
      ],
      "metadata": {
        "id": "lxpfH2k2cBLg"
      }
    },
    {
      "cell_type": "code",
      "source": [
        "# Take one integer number from user\n",
        "number = int(input(\"Enter an integer : \"))\n",
        "\n",
        "# Check for odd / even\n",
        "if number % 2 == 0 :\n",
        "    print(\"\\n\" + str(number), \"is even number.\")\n",
        "else :\n",
        "    print(\"\\n\" + str(number), \"is odd number.\")"
      ],
      "metadata": {
        "id": "D8CGMzwZcC1A"
      },
      "execution_count": null,
      "outputs": []
    },
    {
      "cell_type": "markdown",
      "source": [
        "07.Python check whether a number is negative, positive or zero"
      ],
      "metadata": {
        "id": "xmOPFaDicFqB"
      }
    },
    {
      "cell_type": "code",
      "source": [
        "# Take one integer number from user\n",
        "number = int(input(\"Enter any number : \"))\n",
        "\n",
        "# Number is greater than 0\n",
        "if number > 0 :\n",
        "    print(\"\\nPOSITIVE NUMBER.\")\n",
        "\n",
        "# Number is less than 0\n",
        "if number < 0 :\n",
        "    print(\"\\nNEGATIVE NUMBER.\")\n",
        "\n",
        "# Number is equals to 0\n",
        "if number == 0 :\n",
        "    print(\"\\nNUMBER IS ZERO.\")"
      ],
      "metadata": {
        "colab": {
          "base_uri": "https://localhost:8080/"
        },
        "id": "wM8RtYnCcKlR",
        "outputId": "676d3e51-1da8-4702-ad74-bb12c7441789"
      },
      "execution_count": null,
      "outputs": [
        {
          "output_type": "stream",
          "name": "stdout",
          "text": [
            "Enter any number : 5\n",
            "\n",
            "POSITIVE NUMBER.\n"
          ]
        }
      ]
    },
    {
      "cell_type": "markdown",
      "source": [
        "**08.Python check whether a character is vowel or consonant**"
      ],
      "metadata": {
        "id": "wFeDetFZcQkh"
      }
    },
    {
      "cell_type": "code",
      "source": [
        "# Take input from user\n",
        "ch = input(\"Enter a alphabet : \")[0]\n",
        "\n",
        "# if given character is Lower case Vowel or Upper case Vowel\n",
        "# then print vowel otherwise consonant\n",
        "if ch.lower() in \"aeiou\":\n",
        "    print(\"\\n\" + ch, \"is a vowel.\")\n",
        "else :\n",
        "    print(\"\\n\" + ch, \"is a consonant.\")"
      ],
      "metadata": {
        "id": "n4-Fb7eWcWjU",
        "colab": {
          "base_uri": "https://localhost:8080/"
        },
        "outputId": "cf2edbf7-ee67-450a-8d66-74dcc555e467"
      },
      "execution_count": null,
      "outputs": [
        {
          "output_type": "stream",
          "name": "stdout",
          "text": [
            "Enter a alphabet : VOWEL\n",
            "\n",
            "V is a consonant.\n"
          ]
        }
      ]
    },
    {
      "cell_type": "markdown",
      "source": [
        "09.**Python print day name of week from number**"
      ],
      "metadata": {
        "id": "cl5VMRcxc6DA"
      }
    },
    {
      "cell_type": "code",
      "source": [
        "# Taken day number from user\n",
        "weekday = int(input(\"Enter weekday day number (1-7) : \"))\n",
        "\n",
        "if weekday == 1 :\n",
        "    print(\"\\nMonday\");\n",
        "\n",
        "elif weekday == 2 :\n",
        "    print(\"\\nTuesday\")\n",
        "\n",
        "elif(weekday == 3) :\n",
        "    print(\"\\nWednesday\")\n",
        "\n",
        "elif(weekday == 4) :\n",
        "    print(\"\\nThursday\")\n",
        "\n",
        "elif(weekday == 5) :\n",
        "    print(\"\\nFriday\")\n",
        "\n",
        "elif(weekday == 6) :\n",
        "    print(\"\\nSaturday\")\n",
        "\n",
        "elif (weekday == 7) :\n",
        "    print(\"\\nSunday\")\n",
        "\n",
        "else :\n",
        "    print(\"\\nPlease enter weekday number between 1-7.\")"
      ],
      "metadata": {
        "colab": {
          "base_uri": "https://localhost:8080/"
        },
        "id": "Of4rdrjjc8rB",
        "outputId": "d0fc5c73-6117-4617-8a99-6119733ae288"
      },
      "execution_count": null,
      "outputs": [
        {
          "output_type": "stream",
          "name": "stdout",
          "text": [
            "Enter weekday day number (1-7) : 5\n",
            "\n",
            "Friday\n"
          ]
        }
      ]
    },
    {
      "cell_type": "markdown",
      "source": [
        "# **CGPA CALCULATOR**"
      ],
      "metadata": {
        "id": "bLTV7HdBdO8q"
      }
    },
    {
      "cell_type": "code",
      "source": [
        "#CGPA CALCULATOR !!!!!!!!\n",
        "''' make a program that\n",
        "takes an input from the user\n",
        "check the number accoring to bracu gpa system\n",
        "use if else to show the gpa\n",
        "use another if to check he got a+\n",
        "if they get a+ then print congo'''\n",
        "\n",
        "user = int(input(\"Enter your obtained marks \"))\n",
        "\n",
        "\n",
        "if 100 >= user >= 90:\n",
        "    print(\"Your grade is A+ \")\n",
        "    print(\"Your CGPA is 4.00 \")\n",
        "    print(\"Congratulations champ.You are extraordinary!\")\n",
        "elif 90 > user >= 85:\n",
        "    print(\"Your grade is A \")\n",
        "    print(\"Your CGPA is 3.7 \")\n",
        "    print(\"Excellent!\")\n",
        "\n",
        "elif 85 > user >= 80:\n",
        "    print(\"Your grade is A-\")\n",
        "    print(\"Your CGPA is 3.3 \")\n",
        "    print(\"Very Good!\")\n",
        "\n",
        "elif 80 > user >= 75:\n",
        "    print(\"Your grade is B+\")\n",
        "    print(\"Your CGPA is 3.0\")\n",
        "    print(\"Good!\")\n",
        "\n",
        "elif 75 > user >= 70:\n",
        "    print(\"Your grade is B \")\n",
        "    print(\"Your CGPA is 2.7\")\n",
        "    print(\"Satisfactory!\")\n",
        "\n",
        "elif 70 > user >= 65:\n",
        "    print(\"Your grade is B- \")\n",
        "    print(\"Your CGPA is 2.3\")\n",
        "    print(\"Lack of consistency!\")\n",
        "elif 65 > user >= 60:\n",
        "    print(\"Your grade is C+\")\n",
        "    print(\"Your CGPA is 2.0\")\n",
        "    print(\"Fair!\")\n",
        "\n",
        "elif 60 > user >= 57:\n",
        "    print(\"Your grade is C \")\n",
        "    print(\"Your CGPA is 1.7\")\n",
        "    print(\"Poor!\")\n",
        "\n",
        "elif 57 > user >= 55:\n",
        "    print(\"Your grade is D+ \")\n",
        "    print(\"Your CGPA is 1.3\")\n",
        "    print(\"Probation\")\n",
        "elif 55> user >= 52:\n",
        "    print(\"Your grade is D \")\n",
        "    print(\"Your CGPA is 1.0\")\n",
        "    print(\"Probation\")\n",
        "elif 52 > user >= 50:\n",
        "    print(\"Your grade is D- \")\n",
        "    print(\"Your CGPA is 0.7\")\n",
        "    print(\"Probation!\")\n",
        "elif user <50:\n",
        "    print(\"Your grade is F \")\n",
        "    print(\"Your CGPA is 0.00\")\n",
        "    print(\"Sorry,You have failed the exam!!\")\n",
        "\n",
        "\n",
        "else:\n",
        "    print(\"Invalid marks! try again \")\n",
        "\n"
      ],
      "metadata": {
        "id": "BcddNdYYdRkK",
        "colab": {
          "base_uri": "https://localhost:8080/"
        },
        "outputId": "4b60f78b-e280-4c3b-fca9-4b8d496f8c2a"
      },
      "execution_count": null,
      "outputs": [
        {
          "output_type": "stream",
          "name": "stdout",
          "text": [
            "Enter your obtained marks 91\n",
            "Your grade is A+ \n",
            "Your CGPA is 4.00 \n",
            "Congratulations champ.You are extraordinary!\n"
          ]
        }
      ]
    },
    {
      "cell_type": "markdown",
      "source": [
        "**10.Write the Python code of a program that reads an integer as input**\n",
        " **from the user, and prints the integer if it**\n",
        "**is a multiple of 2 OR 5 and prints \"Not a multiple of 2 OR 5\" otherwis**e. "
      ],
      "metadata": {
        "id": "mVkJF85Ilee1"
      }
    },
    {
      "cell_type": "code",
      "source": [
        "user = int(input(\"Sir, please enter your desired number \"))\n",
        "if user % 5 == 0 or user % 2 == 0:\n",
        "    print(user)\n",
        "\n",
        "else:\n",
        "    print(\"Not a miltiple of 2 or 5\")"
      ],
      "metadata": {
        "colab": {
          "base_uri": "https://localhost:8080/"
        },
        "id": "5L6QMQUPlhi1",
        "outputId": "5bb084a3-0094-40e1-e7a5-8fc378a18894"
      },
      "execution_count": null,
      "outputs": [
        {
          "output_type": "stream",
          "name": "stdout",
          "text": [
            "Sir, please enter your desired number 13\n",
            "Not a miltiple of 2 or 5\n"
          ]
        }
      ]
    },
    {
      "cell_type": "markdown",
      "source": [
        "**11.Write a Python program that takes an \n",
        "hour from the user as input and tells it is time for which meal.**"
      ],
      "metadata": {
        "id": "X4usPfIxdmcJ"
      }
    },
    {
      "cell_type": "code",
      "source": [
        "input_1=int(input(\"sir,please enter what hour is it now:\\n \"))\n",
        "\n",
        "if 4<=input_1<=6:\n",
        "    print(\"Breakfast \")\n",
        "elif 12<=input_1<=13:\n",
        "    print(\"Lunch \")\n",
        "elif 16<=input_1<=17:\n",
        "    print(\"Snacks \")\n",
        "elif 19<=input_1<=20:\n",
        "    print(\"Dinner \")\n",
        "elif input_1<0 or input_1>24:\n",
        "    print(\"Wrong time\")    \n",
        "else:\n",
        "    print(\"Patience is a virtue \")"
      ],
      "metadata": {
        "colab": {
          "base_uri": "https://localhost:8080/"
        },
        "id": "BDkhnBjFmEot",
        "outputId": "cc3a9122-8db5-4302-d578-df182db3edef"
      },
      "execution_count": null,
      "outputs": [
        {
          "output_type": "stream",
          "name": "stdout",
          "text": [
            "sir,please enter what hour is it now:\n",
            " 22\n",
            "Patience is a virtue \n"
          ]
        }
      ]
    },
    {
      "cell_type": "markdown",
      "source": [
        "12.Write a Python program that takes a number as input, representing the ** **bold text**temperature in degrees Fahrenheit, and converts it into degrees Celsius, and** **then prints the season based on the following table:**"
      ],
      "metadata": {
        "id": "CDgIlAcFmOIe"
      }
    },
    {
      "cell_type": "code",
      "source": [
        "Farenheit=float(input(\"Sir,please enter the degree in farenheit \"))\n",
        "celsisus=(Farenheit - 32) * 0.56\n",
        "print(round(celsisus,2))\n",
        "if celsisus<20:\n",
        "    print(\"Winter \")\n",
        "elif 20<=celsisus <=25:\n",
        "    print(\"Autumn \")\n",
        "elif 25<celsisus<30:\n",
        "    print(\"Spring \")\n",
        "           \n",
        "else:\n",
        "    print(\"Summer \")"
      ],
      "metadata": {
        "id": "bVaQ9LZYmRNt"
      },
      "execution_count": null,
      "outputs": []
    },
    {
      "cell_type": "markdown",
      "source": [
        "## **CGPA\tWaiver percentage**"
      ],
      "metadata": {
        "id": "EXHB6ycimh8m"
      }
    },
    {
      "cell_type": "code",
      "source": [
        "cgpa=float(input(\"Sir,please enter your current CGPA \"))\n",
        "credits=int(input(\"Sir,please enter the no. of credits you have completed \"))\n",
        "\n",
        "if credits<0 or credits>200:\n",
        "    print(\"Sir,please enter a vlid number of credits \")\n",
        "elif credits>=30:    \n",
        "    if 3.80<=cgpa<=3.89:\n",
        "        print(\"Comgratulations,you will receive a waiver of 25% \")\n",
        "    elif 3.90<=cgpa<=3.94:\n",
        "        print(\"Congratulations,you have recieved a waiver of 50% \")\n",
        "    elif 3.95<=cgpa<=3.99:\n",
        "        print(\"Congratulations,you have recieved a waiver of 75%\")   \n",
        "    elif cgpa==4.00:\n",
        "        print(\"Congratulations,you have recieved a waiver of 100%\")   \n",
        "    elif cgpa>4.00 or cgpa<0:\n",
        "        print(\"Invalid Input \")\n",
        "    else:\n",
        "         print(\"The student is not eligible for a waiver \")                  \n",
        "    \n",
        "else:\n",
        "    print(\"The students is not eligible for a waiver \")      "
      ],
      "metadata": {
        "id": "_wjThgFbmjsl"
      },
      "execution_count": null,
      "outputs": []
    },
    {
      "cell_type": "markdown",
      "source": [
        "# while loop"
      ],
      "metadata": {
        "id": "zQutEJPf5BH2"
      }
    },
    {
      "cell_type": "code",
      "source": [
        "count=1\n",
        "while count<=50:\n",
        "  if(count%2==0):\n",
        "     print(count)\n",
        "  count+=1\n"
      ],
      "metadata": {
        "id": "5RQRuucI5HPf"
      },
      "execution_count": null,
      "outputs": []
    },
    {
      "cell_type": "markdown",
      "source": [
        "# break"
      ],
      "metadata": {
        "id": "H67vzeLa63ZT"
      }
    },
    {
      "cell_type": "code",
      "source": [
        "count=1\n",
        "while True:\n",
        "  print(count)\n",
        "  count+=1\n",
        "  if count==5:\n",
        "    break"
      ],
      "metadata": {
        "colab": {
          "base_uri": "https://localhost:8080/"
        },
        "id": "vRdLty5d67lC",
        "outputId": "dba71519-ea68-4143-b235-48208563add8"
      },
      "execution_count": null,
      "outputs": [
        {
          "output_type": "stream",
          "name": "stdout",
          "text": [
            "1\n",
            "2\n",
            "3\n",
            "4\n"
          ]
        }
      ]
    },
    {
      "cell_type": "markdown",
      "source": [
        "# Continue"
      ],
      "metadata": {
        "id": "sQdR9oF27Iu7"
      }
    },
    {
      "cell_type": "code",
      "source": [
        "count=0\n",
        "while count<5:\n",
        "  count+=1\n",
        "  if count==3:\n",
        "    continue\n",
        "  print(\"Hello\", count)  "
      ],
      "metadata": {
        "colab": {
          "base_uri": "https://localhost:8080/"
        },
        "id": "7nmaZ5ln7Kvn",
        "outputId": "865032e5-d9e5-40db-cd66-6de8cd54cf92"
      },
      "execution_count": null,
      "outputs": [
        {
          "output_type": "stream",
          "name": "stdout",
          "text": [
            "Hello 1\n",
            "Hello 2\n",
            "Hello 4\n",
            "Hello 5\n"
          ]
        }
      ]
    },
    {
      "cell_type": "markdown",
      "source": [
        "# Nested While"
      ],
      "metadata": {
        "id": "Bhr93CEr7bJm"
      }
    },
    {
      "cell_type": "code",
      "source": [
        "count=1\n",
        "while (count<5):\n",
        "  count+=1\n",
        "  if count==4:\n",
        "    break\n",
        "  if count==3:\n",
        "    continue\n",
        "  print(count)\n",
        "       "
      ],
      "metadata": {
        "colab": {
          "base_uri": "https://localhost:8080/"
        },
        "id": "gFhAJ6ev7dxv",
        "outputId": "07942f20-2207-4b73-976d-69d2a77b4e2a"
      },
      "execution_count": null,
      "outputs": [
        {
          "output_type": "stream",
          "name": "stdout",
          "text": [
            "2\n"
          ]
        }
      ]
    },
    {
      "cell_type": "markdown",
      "source": [
        "# for loop"
      ],
      "metadata": {
        "id": "JsUfjswAIAx0"
      }
    },
    {
      "cell_type": "code",
      "source": [
        "a=[22,60,76,50,64]\n",
        "largest=-10000\n",
        "for i in a:\n",
        "  if i> largest:\n",
        "    largest=i\n",
        "print(largest)    \n"
      ],
      "metadata": {
        "colab": {
          "base_uri": "https://localhost:8080/"
        },
        "id": "4fXDuu5RICuF",
        "outputId": "75adf3a0-1da2-4838-a7fb-d540d4a1e13e"
      },
      "execution_count": null,
      "outputs": [
        {
          "output_type": "stream",
          "name": "stdout",
          "text": [
            "76\n"
          ]
        }
      ]
    },
    {
      "cell_type": "markdown",
      "source": [
        "break keyword, continue keyword"
      ],
      "metadata": {
        "id": "GI9IkpYoIbs9"
      }
    },
    {
      "cell_type": "code",
      "source": [
        "flowers=[\"lily\", \"rose\", \"orchid\"]\n",
        "for x in flowers:\n",
        "  if x==\"orchid\":\n",
        "   break\n",
        "  if x==\"rose\":\n",
        "   continue\n",
        "  print(x)\n"
      ],
      "metadata": {
        "colab": {
          "base_uri": "https://localhost:8080/"
        },
        "id": "tyLUssQ6IfC1",
        "outputId": "1189a162-b4fa-4137-fc3a-7732b24f4a7d"
      },
      "execution_count": null,
      "outputs": [
        {
          "output_type": "stream",
          "name": "stdout",
          "text": [
            "lily\n"
          ]
        }
      ]
    },
    {
      "cell_type": "markdown",
      "source": [
        "# Range Funciton(start,stop,step)"
      ],
      "metadata": {
        "id": "h3ZwqPUxJYid"
      }
    },
    {
      "cell_type": "code",
      "source": [
        "range(0,7)\n",
        "print(range)\n",
        "#print kore nai\n",
        " "
      ],
      "metadata": {
        "colab": {
          "base_uri": "https://localhost:8080/"
        },
        "id": "guGgWEL_JcXu",
        "outputId": "bae2137b-4f9f-4ce4-b5fe-24cf7d4b8419"
      },
      "execution_count": null,
      "outputs": [
        {
          "output_type": "stream",
          "name": "stdout",
          "text": [
            "<class 'range'>\n"
          ]
        }
      ]
    },
    {
      "cell_type": "code",
      "source": [
        "for x in range(10):\n",
        "   print(x)\n",
        "   \n",
        "\n"
      ],
      "metadata": {
        "id": "1LcgRqX4Kn49"
      },
      "execution_count": null,
      "outputs": []
    },
    {
      "cell_type": "code",
      "source": [
        "for x in range(30,20,-1):\n",
        "  print(x)   "
      ],
      "metadata": {
        "id": "YPgGUilxLNuX"
      },
      "execution_count": null,
      "outputs": []
    },
    {
      "cell_type": "code",
      "source": [
        "for x in range(0,10,2):\n",
        "  print(x)"
      ],
      "metadata": {
        "colab": {
          "base_uri": "https://localhost:8080/"
        },
        "id": "7mOZGE-2LPb3",
        "outputId": "21bb1f00-b9c4-43ee-d2fc-41c7381d9ea0"
      },
      "execution_count": null,
      "outputs": [
        {
          "output_type": "stream",
          "name": "stdout",
          "text": [
            "0\n",
            "2\n",
            "4\n",
            "6\n",
            "8\n"
          ]
        }
      ]
    },
    {
      "cell_type": "code",
      "source": [
        "for x in range(0,11):\n",
        "  print(x)"
      ],
      "metadata": {
        "id": "uUuf8o_FLRv8"
      },
      "execution_count": null,
      "outputs": []
    },
    {
      "cell_type": "code",
      "source": [
        "color=[\"White\",\"Red\",\"Black\"]\n",
        "cars=[\"BMW\",\"AUDI\",\"Toyota\"]\n",
        "for x in color:\n",
        "  for y in cars:\n",
        "    print(x,y)"
      ],
      "metadata": {
        "colab": {
          "base_uri": "https://localhost:8080/"
        },
        "id": "jBPsqdMfLSj0",
        "outputId": "f611edf0-90e4-4eed-dc20-d0dad3d63c9a"
      },
      "execution_count": null,
      "outputs": [
        {
          "output_type": "stream",
          "name": "stdout",
          "text": [
            "White BMW\n",
            "White AUDI\n",
            "White Toyota\n",
            "Red BMW\n",
            "Red AUDI\n",
            "Red Toyota\n",
            "Black BMW\n",
            "Black AUDI\n",
            "Black Toyota\n"
          ]
        }
      ]
    },
    {
      "cell_type": "markdown",
      "source": [
        "# Pass Statement (Null statement)"
      ],
      "metadata": {
        "id": "S-01xjU2MaTl"
      }
    },
    {
      "cell_type": "code",
      "source": [
        "a=55\n",
        "b=29\n",
        "if a>b:\n",
        "  pass\n",
        "print(\"Code ended\")  \n"
      ],
      "metadata": {
        "colab": {
          "base_uri": "https://localhost:8080/"
        },
        "id": "XRbcXXwnMduU",
        "outputId": "271388d6-7f56-4641-875d-d1f28383aeff"
      },
      "execution_count": null,
      "outputs": [
        {
          "output_type": "stream",
          "name": "stdout",
          "text": [
            "Code ended\n"
          ]
        }
      ]
    },
    {
      "cell_type": "code",
      "source": [
        "nums=[1,2,3,4,5]\n",
        "for val in nums:\n",
        "  pass\n",
        "  "
      ],
      "metadata": {
        "id": "D1W5-49BMvA8"
      },
      "execution_count": null,
      "outputs": []
    },
    {
      "cell_type": "code",
      "source": [
        "a=20\n",
        "if a<20:\n",
        "  pass\n",
        "print(\"Other lines of the codes\")\n"
      ],
      "metadata": {
        "colab": {
          "base_uri": "https://localhost:8080/"
        },
        "id": "KbkXLQrHM3wk",
        "outputId": "49bcba9e-84c7-4b93-af25-1eb0c7ae12e8"
      },
      "execution_count": null,
      "outputs": [
        {
          "output_type": "stream",
          "name": "stdout",
          "text": [
            "Other lines of the codes\n"
          ]
        }
      ]
    },
    {
      "cell_type": "code",
      "source": [
        "nums=[1,2,3]\n",
        "for x in nums:\n",
        "   pass\n",
        "print(\"nothing\")\n"
      ],
      "metadata": {
        "colab": {
          "base_uri": "https://localhost:8080/"
        },
        "id": "YIhEFc3iNfdU",
        "outputId": "b82427e1-59c7-4a47-99c5-33d3b9f55dbc"
      },
      "execution_count": null,
      "outputs": [
        {
          "output_type": "stream",
          "name": "stdout",
          "text": [
            "nothing\n"
          ]
        }
      ]
    },
    {
      "cell_type": "markdown",
      "source": [
        "# Indexing of strings"
      ],
      "metadata": {
        "id": "8bjW5q7CR7AM"
      }
    },
    {
      "cell_type": "code",
      "source": [
        "s=\"I am Baymax\"\n",
        "print(s[0])\n",
        "print(s[-1])\n",
        "print(s[1])\n",
        "print(s[2])\n",
        "print(s[3])\n",
        "print(s[4])\n",
        "print(s[10])\n",
        "#strings are immutable\n",
        "#strin"
      ],
      "metadata": {
        "colab": {
          "base_uri": "https://localhost:8080/"
        },
        "id": "oVJHIkcuST08",
        "outputId": "066e35be-ddbe-4abc-dd8c-89cbfa6a9870"
      },
      "execution_count": null,
      "outputs": [
        {
          "output_type": "stream",
          "name": "stdout",
          "text": [
            "I\n",
            "x\n",
            " \n",
            "a\n",
            "m\n",
            " \n",
            "x\n"
          ]
        }
      ]
    },
    {
      "cell_type": "code",
      "source": [
        "#iterating over string:\n",
        "index=0\n",
        "s=\"I am Vengeance\"\n",
        "while index<len(s):\n",
        "  print(s[index])\n",
        "  index+=1\n"
      ],
      "metadata": {
        "colab": {
          "base_uri": "https://localhost:8080/"
        },
        "id": "UPs2d-WgWFsM",
        "outputId": "b98357b4-dd04-4a87-9d90-d206eb4f3c15"
      },
      "execution_count": null,
      "outputs": [
        {
          "output_type": "stream",
          "name": "stdout",
          "text": [
            "I\n",
            " \n",
            "a\n",
            "m\n",
            " \n",
            "V\n",
            "e\n",
            "n\n",
            "g\n",
            "e\n",
            "a\n",
            "n\n",
            "c\n",
            "e\n"
          ]
        }
      ]
    },
    {
      "cell_type": "code",
      "source": [
        "s=\"I am Vengeance\"\n",
        "for char in s:\n",
        "  print(char)"
      ],
      "metadata": {
        "colab": {
          "base_uri": "https://localhost:8080/"
        },
        "id": "ADcr9x6nWoEu",
        "outputId": "c192bf4e-74f3-4ceb-eabc-0b95a42bca9c"
      },
      "execution_count": null,
      "outputs": [
        {
          "output_type": "stream",
          "name": "stdout",
          "text": [
            "I\n",
            " \n",
            "a\n",
            "m\n",
            " \n",
            "V\n",
            "e\n",
            "n\n",
            "g\n",
            "e\n",
            "a\n",
            "n\n",
            "c\n",
            "e\n"
          ]
        }
      ]
    },
    {
      "cell_type": "markdown",
      "source": [
        "# #String Concatenation"
      ],
      "metadata": {
        "id": "wmRoucNLWzuk"
      }
    },
    {
      "cell_type": "code",
      "source": [
        "s=\"Hello there\"\n",
        "s=s+\".\"\"I am Vengeance\"\n",
        "print(s)\n"
      ],
      "metadata": {
        "colab": {
          "base_uri": "https://localhost:8080/"
        },
        "id": "JHM-g3S5W2sj",
        "outputId": "cb20a848-5500-4a41-9246-b282d402cc2f"
      },
      "execution_count": null,
      "outputs": [
        {
          "output_type": "stream",
          "name": "stdout",
          "text": [
            "Hello there.I am Vengeance\n"
          ]
        }
      ]
    },
    {
      "cell_type": "code",
      "source": [
        "s=\"I am Rapoo\\n\"\n",
        "print(s*4)\n"
      ],
      "metadata": {
        "colab": {
          "base_uri": "https://localhost:8080/"
        },
        "id": "nm7cJungXU3E",
        "outputId": "fece5e54-d7fa-439c-fa20-30e7b4bd02d8"
      },
      "execution_count": null,
      "outputs": [
        {
          "output_type": "stream",
          "name": "stdout",
          "text": [
            "I am Rapoo\n",
            "I am Rapoo\n",
            "I am Rapoo\n",
            "I am Rapoo\n",
            "\n"
          ]
        }
      ]
    },
    {
      "cell_type": "code",
      "source": [
        "print(\"Hi\\n\"*4,end=\"\")"
      ],
      "metadata": {
        "colab": {
          "base_uri": "https://localhost:8080/"
        },
        "id": "-o4p3U-BYt4j",
        "outputId": "d592614d-e6f7-4b9e-e16e-5205f94f7e0b"
      },
      "execution_count": null,
      "outputs": [
        {
          "output_type": "stream",
          "name": "stdout",
          "text": [
            "Hi\n",
            "Hi\n",
            "Hi\n",
            "Hi\n"
          ]
        }
      ]
    },
    {
      "cell_type": "code",
      "source": [
        "for x in range(0,4):\n",
        "  print(\"Hi\")"
      ],
      "metadata": {
        "colab": {
          "base_uri": "https://localhost:8080/"
        },
        "id": "oDrEoR7BY2Pj",
        "outputId": "352ec600-3a9b-43cc-ec32-e694358d2fd1"
      },
      "execution_count": null,
      "outputs": [
        {
          "output_type": "stream",
          "name": "stdout",
          "text": [
            "Hi\n",
            "Hi\n",
            "Hi\n",
            "Hi\n"
          ]
        }
      ]
    },
    {
      "cell_type": "code",
      "source": [],
      "metadata": {
        "id": "ZiArsn9rY0ds"
      },
      "execution_count": null,
      "outputs": []
    },
    {
      "cell_type": "code",
      "source": [
        "s=\"I am Armeen\"\n",
        "print(s)\n",
        "del s\n",
        "print(s)\n",
        "#not possible"
      ],
      "metadata": {
        "id": "obTe69h5Xa6R"
      },
      "execution_count": null,
      "outputs": []
    },
    {
      "cell_type": "code",
      "source": [
        "s=\"I am Batman\"\n",
        "del s[0]\n",
        "#hobenah since immutable"
      ],
      "metadata": {
        "id": "vYFvb91XYka6",
        "colab": {
          "base_uri": "https://localhost:8080/",
          "height": 200
        },
        "outputId": "8e702c5b-afb3-4793-9950-f0a96a46279f"
      },
      "execution_count": null,
      "outputs": [
        {
          "output_type": "error",
          "ename": "TypeError",
          "evalue": "ignored",
          "traceback": [
            "\u001b[0;31m---------------------------------------------------------------------------\u001b[0m",
            "\u001b[0;31mTypeError\u001b[0m                                 Traceback (most recent call last)",
            "\u001b[0;32m<ipython-input-19-9621d1a41b4b>\u001b[0m in \u001b[0;36m<module>\u001b[0;34m\u001b[0m\n\u001b[1;32m      1\u001b[0m \u001b[0ms\u001b[0m\u001b[0;34m=\u001b[0m\u001b[0;34m\"I am Batman\"\u001b[0m\u001b[0;34m\u001b[0m\u001b[0;34m\u001b[0m\u001b[0m\n\u001b[0;32m----> 2\u001b[0;31m \u001b[0;32mdel\u001b[0m \u001b[0ms\u001b[0m\u001b[0;34m[\u001b[0m\u001b[0;36m0\u001b[0m\u001b[0;34m]\u001b[0m\u001b[0;34m\u001b[0m\u001b[0;34m\u001b[0m\u001b[0m\n\u001b[0m\u001b[1;32m      3\u001b[0m \u001b[0;31m#hobenah since immutable\u001b[0m\u001b[0;34m\u001b[0m\u001b[0;34m\u001b[0m\u001b[0;34m\u001b[0m\u001b[0m\n",
            "\u001b[0;31mTypeError\u001b[0m: 'str' object doesn't support item deletion"
          ]
        }
      ]
    },
    {
      "cell_type": "markdown",
      "source": [
        "# String Slicing"
      ],
      "metadata": {
        "id": "fDdv5aJIY7by"
      }
    },
    {
      "cell_type": "code",
      "source": [
        "s=\"I am Baymax\"\n",
        "print(s[2:4])\n",
        "print(s[:4])\n",
        "print(s[5:])\n",
        "print(s[:])\n",
        "print(s[2:9:2])\n",
        "print(s[9:5:-1])\n"
      ],
      "metadata": {
        "id": "b-HYtRmRY9fq",
        "colab": {
          "base_uri": "https://localhost:8080/"
        },
        "outputId": "7daa7f49-da55-4c9f-d08f-1b3b901cc026"
      },
      "execution_count": null,
      "outputs": [
        {
          "output_type": "stream",
          "name": "stdout",
          "text": [
            "am\n",
            "I am\n",
            "Baymax\n",
            "I am Baymax\n",
            "a am\n",
            "amya\n"
          ]
        }
      ]
    },
    {
      "cell_type": "markdown",
      "source": [
        "# #EScape Sequence"
      ],
      "metadata": {
        "id": "Ym4SoH4-jDEY"
      }
    },
    {
      "cell_type": "code",
      "source": [
        "s=\"I loved the movie 'Spirited Away'\"\n",
        "print(s)\n",
        "s=\"I loved the movie \\\"Spirited Away\\\"\"\n",
        "print(s)"
      ],
      "metadata": {
        "colab": {
          "base_uri": "https://localhost:8080/"
        },
        "id": "6KZ9vT5SjFUB",
        "outputId": "bcb6e219-3e66-4299-e5e3-5ab67f855e70"
      },
      "execution_count": null,
      "outputs": [
        {
          "output_type": "stream",
          "name": "stdout",
          "text": [
            "I loved the movie 'Spirited Away'\n",
            "I loved the movie \"Spirited Away\"\n"
          ]
        }
      ]
    },
    {
      "cell_type": "code",
      "source": [
        "#ASCII TABLE"
      ],
      "metadata": {
        "id": "WsgWVeytje0p"
      },
      "execution_count": null,
      "outputs": []
    },
    {
      "cell_type": "code",
      "source": [
        "s='Hello Cute'\n",
        "tmp=s.lower()\n",
        "print(s)\n",
        "print(tmp)\n",
        "s='    Hello World     '.strip()\n",
        "print(s)\n",
        "s='    Hello World     '.rstrip()\n",
        "print(s)\n",
        "s='    Hello World     '.lstrip()\n",
        "print(s)\n",
        "s='Hello World '.count('o')\n",
        "print(s)\n",
        "s='Hello World '.find('l')\n",
        "print(s)\n",
        "s='Hello World '.replace('l','x')\n",
        "print(s)\n",
        "s='Hello World '.startswith('He')\n",
        "print(s)\n",
        "s='Hello World '.startswith('HE')\n",
        "print(s)"
      ],
      "metadata": {
        "colab": {
          "base_uri": "https://localhost:8080/"
        },
        "id": "1OuRhNfctv0U",
        "outputId": "a5d7264a-20bd-46d1-f045-1d2ff85da5c4"
      },
      "execution_count": null,
      "outputs": [
        {
          "output_type": "stream",
          "name": "stdout",
          "text": [
            "Hello Cute\n",
            "hello cute\n",
            "Hello World\n",
            "    Hello World\n",
            "Hello World     \n",
            "2\n",
            "2\n",
            "Hexxo Worxd \n",
            "True\n",
            "False\n"
          ]
        }
      ]
    },
    {
      "cell_type": "markdown",
      "source": [
        "# Formatting String"
      ],
      "metadata": {
        "id": "syJvIbml3t47"
      }
    },
    {
      "cell_type": "code",
      "source": [
        "s=\"Hello {}, I am {}.\".format(\"Ifti\",\"Nashid\")\n",
        "print(s)\n",
        " "
      ],
      "metadata": {
        "colab": {
          "base_uri": "https://localhost:8080/"
        },
        "id": "1ddv0UbD3wS1",
        "outputId": "1bda0add-3669-4c9f-eb9c-4d2a9fbacff6"
      },
      "execution_count": null,
      "outputs": [
        {
          "output_type": "stream",
          "name": "stdout",
          "text": [
            "Hello Ifti, I am Nashid.\n"
          ]
        }
      ]
    },
    {
      "cell_type": "code",
      "source": [
        "s=\"Hello {0}, I am {1}.\".format(\"Jamil\",\"Jisoo\")\n",
        "print(s)"
      ],
      "metadata": {
        "colab": {
          "base_uri": "https://localhost:8080/"
        },
        "id": "0d5PKZFC5NY2",
        "outputId": "4022a2b0-feb7-4f82-f18a-ed6bb2a0f96d"
      },
      "execution_count": null,
      "outputs": [
        {
          "output_type": "stream",
          "name": "stdout",
          "text": [
            "Hello Jamil, I am Jisoo.\n"
          ]
        }
      ]
    },
    {
      "cell_type": "code",
      "source": [
        "s=\"Hello {speaker}, I am {thirdperson}.\".format(speaker=\"Tonoy\", thirdperson=\"Rafee\")\n",
        "print(s)"
      ],
      "metadata": {
        "colab": {
          "base_uri": "https://localhost:8080/"
        },
        "id": "-ux0_-_z5u4p",
        "outputId": "b6ffdd61-0843-40e2-8dce-017fa341f976"
      },
      "execution_count": null,
      "outputs": [
        {
          "output_type": "stream",
          "name": "stdout",
          "text": [
            "Hello Oggy, I am Rafee.\n"
          ]
        }
      ]
    },
    {
      "cell_type": "markdown",
      "source": [
        "# Number Formatting"
      ],
      "metadata": {
        "id": "v0unvhkD7XSA"
      }
    },
    {
      "cell_type": "code",
      "source": [
        "s=\"Hello {0},can you lend me {1:d}$?\".format(\"Bob\",100)\n",
        "print(s)\n",
        "s=\"I am {0}, {1}. I have only {2:5.2f}$.\".format(\"sorry\",\"Alice\", 50.5876)\n",
        "print(s)\n",
        "s=\"Bin: {0:b}, Oct: {0:o}, Hex: {0:x}\" .format(10)\n",
        "print(s)"
      ],
      "metadata": {
        "colab": {
          "base_uri": "https://localhost:8080/"
        },
        "id": "2eycYT-v7aN5",
        "outputId": "6f7b918f-f136-4bf6-8ee3-aca04970560a"
      },
      "execution_count": null,
      "outputs": [
        {
          "output_type": "stream",
          "name": "stdout",
          "text": [
            "Hello Bob,can you lend me 100$?\n",
            "I am sorry, Alice. I have only 50.59$.\n",
            "Bin: 1010, Oct: 12, Hex: a\n"
          ]
        }
      ]
    },
    {
      "cell_type": "code",
      "source": [
        "#Alignment\n",
        "# < left\n",
        "# < right\n",
        "# ^ center\n",
        "print(\"{:<d}\""
      ],
      "metadata": {
        "id": "eAHqs4Ti7alg"
      },
      "execution_count": null,
      "outputs": []
    },
    {
      "cell_type": "code",
      "source": [
        "print(\"{:<d}\".format(20))\n",
        "print(\"{:<5d}\".format(20))\n",
        "print(\"{:<05d}\".format(20))\n",
        "print(\"{:^17.3f}\".format(20.1235))\n",
        "print(\"{:^017.3f}\".format(20.1235))\n",
        "print(\"{:<9d}\".format(30))\n",
        "print(\"{:<09d}\".format(30))\n",
        "print(\"{0:<d}|{1:^14.3f}|{2:<9d}\".format(20,20.1235,30))"
      ],
      "metadata": {
        "id": "w82kJVsm7aUf",
        "colab": {
          "base_uri": "https://localhost:8080/"
        },
        "outputId": "5b2e8cd3-109f-40fc-a4f0-c5d2acde2c9e"
      },
      "execution_count": null,
      "outputs": [
        {
          "output_type": "stream",
          "name": "stdout",
          "text": [
            "20\n",
            "20000\n",
            "0000020.123000000\n",
            "30       \n",
            "300000000\n",
            "20|    20.123    |30       \n"
          ]
        }
      ]
    },
    {
      "cell_type": "markdown",
      "source": [
        "# list details"
      ],
      "metadata": {
        "id": "XzxkLNK-IMna"
      }
    },
    {
      "cell_type": "code",
      "source": [
        "my_list=[1,\"Abc\",4.5]\n",
        "print(my_list)\n",
        "my_list=[\"Hello\",[7,8,9]] #nested list\n",
        "print(my_list)\n",
        "my_list=[]\n",
        "print(my_list)\n",
        "my_list=list() #list constructor\n",
        "my_list=list([1,2,3]) #list constructor\n",
        "print(my_list)\n",
        "a=[1,2,3]\n",
        "print(len(a)) #length of the list \n"
      ],
      "metadata": {
        "colab": {
          "base_uri": "https://localhost:8080/"
        },
        "id": "_lpaqLAEIPp9",
        "outputId": "0fdd9826-5a12-4d51-94b4-cda176e3cbd2"
      },
      "execution_count": null,
      "outputs": [
        {
          "output_type": "stream",
          "name": "stdout",
          "text": [
            "[1, 'Abc', 4.5]\n",
            "['Hello', [7, 8, 9]]\n",
            "[]\n",
            "3\n"
          ]
        }
      ]
    },
    {
      "cell_type": "code",
      "source": [
        "#indexing\n",
        "a=[1,2,3,4,5]\n",
        "print(a[2])\n",
        "print(a[4])\n",
        "print(a[-2])\n"
      ],
      "metadata": {
        "id": "at_tMpndJD46",
        "colab": {
          "base_uri": "https://localhost:8080/"
        },
        "outputId": "abb642b4-2782-40b1-9d87-38adfa1cf9d8"
      },
      "execution_count": null,
      "outputs": [
        {
          "output_type": "stream",
          "name": "stdout",
          "text": [
            "3\n",
            "5\n",
            "4\n"
          ]
        }
      ]
    },
    {
      "cell_type": "code",
      "source": [
        "player_list=['Ronaldo','Messi','neymar']\n",
        "print(player_list)\n",
        "player_list[2]=\"son\"\n",
        "print(player_list)"
      ],
      "metadata": {
        "colab": {
          "base_uri": "https://localhost:8080/"
        },
        "id": "b1TAhoQdGFTB",
        "outputId": "34837aee-c2e8-4f96-e393-01d2a5a70b23"
      },
      "execution_count": null,
      "outputs": [
        {
          "output_type": "stream",
          "name": "stdout",
          "text": [
            "['Ronaldo', 'Messi', 'neymar']\n",
            "['Ronaldo', 'Messi', 'son']\n"
          ]
        }
      ]
    },
    {
      "cell_type": "code",
      "source": [
        "a=[1,2,3,4,5,6,7]\n",
        "print(a)\n",
        "a[3]=22\n",
        "print(a)\n"
      ],
      "metadata": {
        "colab": {
          "base_uri": "https://localhost:8080/"
        },
        "id": "MNszBZlhHuxv",
        "outputId": "65987603-b281-40f8-c734-58de6b258afb"
      },
      "execution_count": null,
      "outputs": [
        {
          "output_type": "stream",
          "name": "stdout",
          "text": [
            "[1, 2, 3, 4, 5, 6, 7]\n",
            "[1, 2, 3, 22, 5, 6, 7]\n"
          ]
        }
      ]
    },
    {
      "cell_type": "code",
      "source": [
        "#add items\n",
        "cars=['BMW','AUDI','PORHSE']\n",
        "cars.append(\"Ford\")\n",
        "print(cars)\n"
      ],
      "metadata": {
        "colab": {
          "base_uri": "https://localhost:8080/"
        },
        "id": "HeWGxCC-IKeH",
        "outputId": "6d795ef9-51f9-40ed-b7af-b91f2a013ff3"
      },
      "execution_count": null,
      "outputs": [
        {
          "output_type": "stream",
          "name": "stdout",
          "text": [
            "['BMW', 'AUDI', 'PORHSE', 'Ford']\n"
          ]
        }
      ]
    },
    {
      "cell_type": "code",
      "source": [
        "#specific index e add\n",
        "cars=['BMW','AUDI','PORHSE']\n",
        "cars.insert(1,\"Ford\")\n",
        "print(cars)"
      ],
      "metadata": {
        "colab": {
          "base_uri": "https://localhost:8080/"
        },
        "id": "Fn679HfUIWlX",
        "outputId": "38af661f-6755-41ae-ad45-401743f6644e"
      },
      "execution_count": null,
      "outputs": [
        {
          "output_type": "stream",
          "name": "stdout",
          "text": [
            "['BMW', 'Ford', 'AUDI', 'PORHSE']\n"
          ]
        }
      ]
    },
    {
      "cell_type": "code",
      "source": [
        "#remove items from list\n",
        "# list is mutable\n",
        "cars=['BMW','AUDI','PORHSE']\n",
        "print(cars)\n",
        "cars.pop()\n",
        "print(cars)"
      ],
      "metadata": {
        "colab": {
          "base_uri": "https://localhost:8080/"
        },
        "id": "XqRYybHSIi1K",
        "outputId": "0c1b0c10-bb10-40e3-98f8-2acc5b3042f8"
      },
      "execution_count": null,
      "outputs": [
        {
          "output_type": "stream",
          "name": "stdout",
          "text": [
            "['BMW', 'AUDI']\n"
          ]
        }
      ]
    },
    {
      "cell_type": "code",
      "source": [
        "cars=['BMW','AUDI','PORHSE']\n",
        "print(cars)\n",
        "cars.pop(1)\n",
        "print(cars)"
      ],
      "metadata": {
        "colab": {
          "base_uri": "https://localhost:8080/"
        },
        "id": "WQADH8w2IxPu",
        "outputId": "f8f35cb2-07ad-4924-90da-c01b0551a314"
      },
      "execution_count": null,
      "outputs": [
        {
          "output_type": "stream",
          "name": "stdout",
          "text": [
            "['BMW', 'AUDI', 'PORHSE']\n",
            "['BMW', 'PORHSE']\n"
          ]
        }
      ]
    },
    {
      "cell_type": "code",
      "source": [
        "cars=['BMW','AUDI','PORHSE']\n",
        "print(cars)\n",
        "cars.remove(\"BMW\")\n",
        "print(cars)"
      ],
      "metadata": {
        "colab": {
          "base_uri": "https://localhost:8080/"
        },
        "id": "BXTN2_PCIzr2",
        "outputId": "9c163048-1542-42ed-91ba-76166aa4f974"
      },
      "execution_count": null,
      "outputs": [
        {
          "output_type": "stream",
          "name": "stdout",
          "text": [
            "['BMW', 'AUDI', 'PORHSE']\n",
            "['AUDI', 'PORHSE']\n"
          ]
        }
      ]
    },
    {
      "cell_type": "code",
      "source": [
        "#del keyword diye remove\n",
        "cars=['BMW','AUDI','PORHSE']\n",
        "print(cars)\n",
        "del cars[0] #value dit ehobe\n",
        "print(cars)"
      ],
      "metadata": {
        "colab": {
          "base_uri": "https://localhost:8080/"
        },
        "id": "f3hPmBK4I4s1",
        "outputId": "0cb2403e-2ac0-4789-b8ed-c63b8b04d01a"
      },
      "execution_count": null,
      "outputs": [
        {
          "output_type": "stream",
          "name": "stdout",
          "text": [
            "['BMW', 'AUDI', 'PORHSE']\n",
            "['AUDI', 'PORHSE']\n"
          ]
        }
      ]
    },
    {
      "cell_type": "code",
      "source": [
        "#list delete\n",
        "cars=['BMW','AUDI','PORHSE']\n",
        "print(cars)\n",
        "cars.clear()\n",
        "print(cars)"
      ],
      "metadata": {
        "colab": {
          "base_uri": "https://localhost:8080/"
        },
        "id": "2lKLfxZfJCWd",
        "outputId": "5c583daf-03e9-4645-8e70-92f92273b107"
      },
      "execution_count": null,
      "outputs": [
        {
          "output_type": "stream",
          "name": "stdout",
          "text": [
            "['BMW', 'AUDI', 'PORHSE']\n",
            "[]\n"
          ]
        }
      ]
    },
    {
      "cell_type": "code",
      "source": [
        "#copy list\n",
        "cars=['BMW','AUDI','PORHSE']\n",
        "print(cars)\n",
        "cars2=cars.copy()\n",
        "print(cars2)"
      ],
      "metadata": {
        "colab": {
          "base_uri": "https://localhost:8080/"
        },
        "id": "Vjq7S9taJG_8",
        "outputId": "ecf36486-4a47-4277-e29f-46f05961458a"
      },
      "execution_count": null,
      "outputs": [
        {
          "output_type": "stream",
          "name": "stdout",
          "text": [
            "['BMW', 'AUDI', 'PORHSE']\n",
            "['BMW', 'AUDI', 'PORHSE']\n"
          ]
        }
      ]
    },
    {
      "cell_type": "code",
      "source": [
        "#join two list\n",
        "list=[1,2,3]\n",
        "list2=[4,5,6]\n",
        "list3=list+list2\n",
        "print(list3)"
      ],
      "metadata": {
        "id": "kT461IytJW_i"
      },
      "execution_count": null,
      "outputs": []
    },
    {
      "cell_type": "code",
      "source": [
        "# extend method\n",
        "list=[1,2,3]\n",
        "list2=[4,5,6]\n",
        "list.extend(list2)\n",
        "print(list)"
      ],
      "metadata": {
        "colab": {
          "base_uri": "https://localhost:8080/"
        },
        "id": "sSFsd31dsni4",
        "outputId": "e69fb121-41f0-4046-a53f-785dce77b793"
      },
      "execution_count": null,
      "outputs": [
        {
          "output_type": "stream",
          "name": "stdout",
          "text": [
            "[1, 2, 3, 4, 5, 6]\n"
          ]
        }
      ]
    },
    {
      "cell_type": "code",
      "source": [
        "#list slicing (start:end:step)\n",
        "colors=[\"Black\",\"Red\",\"Blue\",\"yellow\",\"Purple\",\"Indigo\",\"Green\",\"Orange\"]\n",
        "clr=colors[1:4]\n",
        "print(clr)\n",
        "print(colors[:4])\n",
        "print(colors[3:])\n",
        "print(colors[-4:-1])\n",
        "print(colors[0:6:2])\n",
        "\n"
      ],
      "metadata": {
        "colab": {
          "base_uri": "https://localhost:8080/"
        },
        "id": "KDVw8bJos53d",
        "outputId": "240b7cc5-880f-47fb-a01f-f92f2c11cc16"
      },
      "execution_count": null,
      "outputs": [
        {
          "output_type": "stream",
          "name": "stdout",
          "text": [
            "['Red', 'Blue', 'yellow']\n",
            "['Black', 'Red', 'Blue', 'yellow']\n",
            "['yellow', 'Purple', 'Indigo', 'Green', 'Orange']\n",
            "['Purple', 'Indigo', 'Green']\n",
            "['Black', 'Blue', 'Purple']\n"
          ]
        }
      ]
    },
    {
      "cell_type": "code",
      "source": [
        "#list sorting\n",
        "list=[5,4,3,2,1]\n",
        "list.sort()\n",
        "print(list)\n",
        "\n",
        "#list reverse\n",
        "list=[5,4,3,2,1]\n",
        "list.sort()\n",
        "print(list)"
      ],
      "metadata": {
        "colab": {
          "base_uri": "https://localhost:8080/"
        },
        "id": "ad1XruELIYtt",
        "outputId": "4c0aafe9-97ca-4fae-8df2-661253aa0010"
      },
      "execution_count": null,
      "outputs": [
        {
          "output_type": "stream",
          "name": "stdout",
          "text": [
            "[1, 2, 3, 4, 5]\n",
            "[1, 2, 3, 4, 5]\n"
          ]
        }
      ]
    },
    {
      "cell_type": "code",
      "source": [
        "#list index\n",
        "list=[2,4,5,2,1]\n",
        "list.index(4)\n"
      ],
      "metadata": {
        "colab": {
          "base_uri": "https://localhost:8080/"
        },
        "id": "faO1DTIDJG8a",
        "outputId": "655f421a-a94c-4118-bd2b-fb37587d17c1"
      },
      "execution_count": null,
      "outputs": [
        {
          "output_type": "execute_result",
          "data": {
            "text/plain": [
              "1"
            ]
          },
          "metadata": {},
          "execution_count": 11
        }
      ]
    },
    {
      "cell_type": "code",
      "source": [
        "list=[2,4,5,2,1]\n",
        "list.count(2)\n"
      ],
      "metadata": {
        "colab": {
          "base_uri": "https://localhost:8080/"
        },
        "id": "JqXzFERxJgq3",
        "outputId": "9a2dc1c7-841a-4274-9d97-1ee80f45d9c4"
      },
      "execution_count": null,
      "outputs": [
        {
          "output_type": "execute_result",
          "data": {
            "text/plain": [
              "2"
            ]
          },
          "metadata": {},
          "execution_count": 10
        }
      ]
    },
    {
      "cell_type": "markdown",
      "source": [
        "# List coding part"
      ],
      "metadata": {
        "id": "QZ47Zb-PMEGl"
      }
    },
    {
      "cell_type": "code",
      "source": [
        "my_list=[]\n",
        "colors=[\"white\",\"black\",\"orange\",\"purple\",\"Red\",\"blue\"]\n",
        "nums=[1,2,3,3,4,5,6]\n",
        "mixed=[\"Hello\",1,2,3,4.5,5.5]\n",
        "colors[2]=\"Brown\"\n",
        "print(colors)\n",
        "colors2=colors[1:4]\n",
        "print(colors2)\n",
        "\n",
        "nums.append(7)\n",
        "nums.insert(2,2.5)\n",
        "print(nums)\n",
        "\n",
        "mixed.pop(0)\n",
        "mixed.pop()\n",
        "print(mixed)\n",
        "\n",
        "# colors.remove(\"orange\")\n",
        "print(colors)\n",
        "del colors[1]\n",
        "print(colors)\n",
        "\n",
        "# del colors #puratai delete\n",
        "nums.clear()\n",
        "print(nums)\n",
        "\n",
        "num2=nums.copy()\n",
        "print(num2)\n",
        "\n",
        "list2=[4,5,6,9,8,2]\n",
        "my_list.extend(list2)\n",
        "\n"
      ],
      "metadata": {
        "colab": {
          "base_uri": "https://localhost:8080/"
        },
        "id": "Rz8EzmAIMM4-",
        "outputId": "9be70b13-718b-434f-9eac-0dc870b91ab7"
      },
      "execution_count": null,
      "outputs": [
        {
          "output_type": "stream",
          "name": "stdout",
          "text": [
            "['white', 'black', 'Brown', 'purple', 'Red', 'blue']\n",
            "['black', 'Brown', 'purple']\n",
            "[1, 2, 2.5, 3, 3, 4, 5, 6, 7]\n",
            "[1, 2, 3, 4.5]\n",
            "['white', 'black', 'Brown', 'purple', 'Red', 'blue']\n",
            "['white', 'Brown', 'purple', 'Red', 'blue']\n",
            "[]\n",
            "[]\n"
          ]
        }
      ]
    },
    {
      "cell_type": "markdown",
      "source": [
        "# #Loop problems"
      ],
      "metadata": {
        "id": "AULTzc_Mx9HH"
      }
    },
    {
      "cell_type": "code",
      "source": [
        "print(\"Number Pattern \")\n",
        "\n",
        "# Decide the row count. (above pattern contains 5 rows)\n",
        "row = 5\n",
        "# start: 1\n",
        "# stop: row+1 (range never include stop number in result)\n",
        "# step: 1\n",
        "# run loop 5 times\n",
        "for i in range(1, row + 1, 1):\n",
        "    # Run inner loop i+1 times\n",
        "    for j in range(1, i + 1):\n",
        "        print(j, end=' ')\n",
        "    # empty line after each row\n",
        "    print(\"\")"
      ],
      "metadata": {
        "colab": {
          "base_uri": "https://localhost:8080/"
        },
        "id": "i5-KM1Oq1WUp",
        "outputId": "da142ea1-cbc0-4a02-f5bd-0996e26bb708"
      },
      "execution_count": null,
      "outputs": [
        {
          "output_type": "stream",
          "name": "stdout",
          "text": [
            "Number Pattern \n",
            "1 \n",
            "1 2 \n",
            "1 2 3 \n",
            "1 2 3 4 \n",
            "1 2 3 4 5 \n"
          ]
        }
      ]
    },
    {
      "cell_type": "code",
      "source": [
        "#nested loop\n",
        "print(\"Number Pattern: \")\n",
        "column=5\n",
        "for i in range(1,column+1,1):\n",
        "   for j in range(1,i+1):\n",
        "      print(j,end=\" \")\n",
        "   print(\" \")  \n"
      ],
      "metadata": {
        "colab": {
          "base_uri": "https://localhost:8080/"
        },
        "id": "0-k2ydcux__P",
        "outputId": "419b61a6-1a5b-4c6e-c11a-e5afa44b0411"
      },
      "execution_count": null,
      "outputs": [
        {
          "output_type": "stream",
          "name": "stdout",
          "text": [
            "Number Pattern: \n",
            "1  \n",
            "1 2  \n",
            "1 2 3  \n",
            "1 2 3 4  \n",
            "1 2 3 4 5  \n"
          ]
        }
      ]
    },
    {
      "cell_type": "code",
      "source": [],
      "metadata": {
        "id": "kJolLSKX1IlX"
      },
      "execution_count": null,
      "outputs": []
    },
    {
      "cell_type": "markdown",
      "source": [
        "Calculate the sum of all numbers from 1 to a given number"
      ],
      "metadata": {
        "id": "G7SFFUBl1fqw"
      }
    },
    {
      "cell_type": "code",
      "source": [
        "n=int(input(\"Enter  a number: \"))\n",
        "sum=0\n",
        "for i in range(0,n+1,1):\n",
        "   sum+=i\n",
        "print(sum)"
      ],
      "metadata": {
        "colab": {
          "base_uri": "https://localhost:8080/"
        },
        "id": "dJpB326C1gzi",
        "outputId": "17f0143e-66ff-45ef-f1b5-d6ea12e562f1"
      },
      "execution_count": null,
      "outputs": [
        {
          "output_type": "stream",
          "name": "stdout",
          "text": [
            "Enter  a number: 10\n",
            "55\n"
          ]
        }
      ]
    },
    {
      "cell_type": "code",
      "source": [
        "# s: store sum of all numbers\n",
        "s = 0\n",
        "n = int(input(\"Enter number \"))\n",
        "# run loop n times\n",
        "# stop: n+1 (because range never include stop number in result)\n",
        "for i in range(1, n + 1, 1):\n",
        "    # add current number to sum variable\n",
        "    s += i\n",
        "print(\"\\n\")\n",
        "print(\"Sum is: \", s)"
      ],
      "metadata": {
        "colab": {
          "base_uri": "https://localhost:8080/"
        },
        "id": "DPCJb5b53Kbq",
        "outputId": "1185135a-3403-472f-fee1-d7713eab7a89"
      },
      "execution_count": null,
      "outputs": [
        {
          "output_type": "stream",
          "name": "stdout",
          "text": [
            "Enter number 10\n",
            "\n",
            "\n",
            "Sum is:  55\n"
          ]
        }
      ]
    },
    {
      "cell_type": "markdown",
      "source": [
        "average and sum"
      ],
      "metadata": {
        "id": "4MlQ6AIb3OFC"
      }
    },
    {
      "cell_type": "code",
      "source": [
        "n = int(input(\"Enter number: \"))\n",
        "sum = 0\n",
        "# loop from 1 to n\n",
        "for num in range(1, n + 1, 1):\n",
        "    sum+=num\n",
        "print(\"Sum of first \", n, \"numbers is: \", sum)\n",
        "average = sum / n\n",
        "print(\"Average of \", n, \"numbers is: \", average)"
      ],
      "metadata": {
        "colab": {
          "base_uri": "https://localhost:8080/"
        },
        "id": "PToMZpqj3fM_",
        "outputId": "3a6276ec-f7bd-4668-c299-4ef500dc0b64"
      },
      "execution_count": null,
      "outputs": [
        {
          "output_type": "stream",
          "name": "stdout",
          "text": [
            "Enter number10\n",
            "Sum of first  10 numbers is:  55\n",
            "Average of  10 numbers is:  5.5\n"
          ]
        }
      ]
    },
    {
      "cell_type": "code",
      "source": [
        "a=['nashid','ramisa','ifti','beg','oriut','samia','ramisa','rafee','armeen','babu','zan','tenz','mushi','yeashfi']\n",
        "a.sort()\n",
        "print(a)"
      ],
      "metadata": {
        "id": "iQGaaiiv3o6_",
        "colab": {
          "base_uri": "https://localhost:8080/"
        },
        "outputId": "fcbf0038-5808-4d81-d4cd-8c82a53a248a"
      },
      "execution_count": null,
      "outputs": [
        {
          "output_type": "stream",
          "name": "stdout",
          "text": [
            "['armeen', 'babu', 'beg', 'ifti', 'mushi', 'nashid', 'oriut', 'rafee', 'ramisa', 'ramisa', 'samia', 'tenz', 'yeashfi', 'zan']\n"
          ]
        }
      ]
    },
    {
      "cell_type": "code",
      "source": [
        "time=int(input(\"enter the amount of seconds: \"))\n",
        "hour=time//3600\n",
        "time%=3600\n",
        "minutes=time//60\n",
        "time%=60\n",
        "seconds=time\n",
        "print(f\"Hour: {hour} Minutes: {minutes} Seconds: {seconds}\")"
      ],
      "metadata": {
        "colab": {
          "base_uri": "https://localhost:8080/"
        },
        "id": "KwDSF94morRs",
        "outputId": "3d98a022-0ffc-413f-90a3-d50f4247fec5"
      },
      "execution_count": null,
      "outputs": [
        {
          "output_type": "stream",
          "name": "stdout",
          "text": [
            "enter the amount of seconds: 10000\n",
            "Hour: 2 Minutes: 46 Seconds: 40\n"
          ]
        }
      ]
    },
    {
      "cell_type": "code",
      "source": [
        "days=int(input())\n",
        "seconds=24*days*3600\n",
        "print(seconds)"
      ],
      "metadata": {
        "colab": {
          "base_uri": "https://localhost:8080/"
        },
        "id": "EklQZ4wlsZ6T",
        "outputId": "15578fb1-a7c7-42fb-8be2-84b750ae7db0"
      },
      "execution_count": null,
      "outputs": [
        {
          "output_type": "stream",
          "name": "stdout",
          "text": [
            "1\n",
            "86400\n"
          ]
        }
      ]
    },
    {
      "cell_type": "code",
      "source": [
        "week_hour=int(input())\n",
        "if 0<=week_hour<=168:\n",
        "  if week_hour<=40:\n",
        "    salary=200*week_hour\n",
        "  else:\n",
        "    salary=8000+(week_hour-40)*300\n",
        "  print(salary)\n",
        "else:\n",
        "     print(\"Impossible to work more than 168 hours weekly\")      "
      ],
      "metadata": {
        "colab": {
          "base_uri": "https://localhost:8080/"
        },
        "id": "nmTceTMVu3Sf",
        "outputId": "25f89fc1-5468-4b61-c729-e294972a0601"
      },
      "execution_count": null,
      "outputs": [
        {
          "output_type": "stream",
          "name": "stdout",
          "text": [
            "30\n",
            "6000\n"
          ]
        }
      ]
    },
    {
      "cell_type": "code",
      "source": [
        "s=int(input())\n",
        "if s <100:\n",
        "  l=3000-125*s**2\n",
        "else:\n",
        "   l=12000/(4+s**2/14900)\n",
        "print(l)  \n"
      ],
      "metadata": {
        "colab": {
          "base_uri": "https://localhost:8080/"
        },
        "id": "gdUBxcusvi20",
        "outputId": "be4114c8-3b97-46d0-8c83-862769dd359b"
      },
      "execution_count": null,
      "outputs": [
        {
          "output_type": "stream",
          "name": "stdout",
          "text": [
            "120\n",
            "2416.2162162162163\n"
          ]
        }
      ]
    },
    {
      "cell_type": "code",
      "source": [
        "farenheit=int(input(\"Enter the degrees: \"))\n",
        "celsius=int((farenheit-32)*0.56)\n",
        "print(celsius,\"degrees C\")\n",
        "if celsius<20:\n",
        "  print(\"Winter\")\n",
        "elif 20<=celsius<=25:\n",
        "  print(\"Autumn\")\n",
        "elif 25<celsius<30:\n",
        "  print(\"Spring\")\n",
        "elif celsius>=30:\n",
        "  print(\"Summer\")      \n",
        "else:\n",
        "  print(\"Invalid Input\")\n"
      ],
      "metadata": {
        "colab": {
          "base_uri": "https://localhost:8080/"
        },
        "id": "Im_GHr1JwHa9",
        "outputId": "a82928b5-6a07-4337-b74e-07be14e9d274"
      },
      "execution_count": null,
      "outputs": [
        {
          "output_type": "stream",
          "name": "stdout",
          "text": [
            "Enter the degrees: 82\n",
            "28 degrees C\n",
            "Spring\n"
          ]
        }
      ]
    }
  ],
  "metadata": {
    "colab": {
      "provenance": []
    },
    "kernelspec": {
      "display_name": "Python 3",
      "name": "python3"
    },
    "language_info": {
      "name": "python"
    }
  },
  "nbformat": 4,
  "nbformat_minor": 0
}